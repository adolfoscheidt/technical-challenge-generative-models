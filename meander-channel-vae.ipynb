{
 "cells": [
  {
   "cell_type": "code",
   "execution_count": 3,
   "id": "50af5409-fc92-4876-a1f6-42f50ef07e5d",
   "metadata": {
    "executionInfo": {
     "elapsed": 5719,
     "status": "ok",
     "timestamp": 1723825218969,
     "user": {
      "displayName": "Adolfo Scheidt",
      "userId": "09124212706277105639"
     },
     "user_tz": 180
    },
    "id": "50af5409-fc92-4876-a1f6-42f50ef07e5d"
   },
   "outputs": [],
   "source": [
    "# import necessary libraries\n",
    "import h5py\n",
    "\n",
    "import numpy as np\n",
    "import matplotlib.pyplot as plt\n",
    "\n",
    "from tensorflow import keras\n",
    "from tensorflow.keras import layers, models\n",
    "import tensorflow as tf"
   ]
  },
  {
   "cell_type": "markdown",
   "id": "385f98e0-e252-4354-a793-954848eab6cf",
   "metadata": {
    "id": "385f98e0-e252-4354-a793-954848eab6cf"
   },
   "source": [
    "# Utility Functions"
   ]
  },
  {
   "cell_type": "code",
   "execution_count": 4,
   "id": "4546c0bf-4771-4855-9670-a9bfaf6f903f",
   "metadata": {
    "executionInfo": {
     "elapsed": 17,
     "status": "ok",
     "timestamp": 1723825218970,
     "user": {
      "displayName": "Adolfo Scheidt",
      "userId": "09124212706277105639"
     },
     "user_tz": 180
    },
    "id": "4546c0bf-4771-4855-9670-a9bfaf6f903f"
   },
   "outputs": [],
   "source": [
    "# function to plot 10 images side-by-side from an array\n",
    "def plot_images(images_arr):\n",
    "    fig, axes = plt.subplots(1,10, figsize=(20,20))\n",
    "    axes = axes.flatten()\n",
    "    for img, ax in zip(images_arr, axes):\n",
    "        ax.imshow(img)\n",
    "        ax.axis('off')\n",
    "    plt.tight_layout()\n",
    "    plt.show()"
   ]
  },
  {
   "cell_type": "markdown",
   "id": "f7b1e996-cc6d-41b8-bd96-26cbe2ac9fa4",
   "metadata": {
    "id": "f7b1e996-cc6d-41b8-bd96-26cbe2ac9fa4"
   },
   "source": [
    "# Loading Data"
   ]
  },
  {
   "cell_type": "markdown",
   "id": "c85c38be-6000-4312-b8aa-6bfbafe41f05",
   "metadata": {
    "id": "c85c38be-6000-4312-b8aa-6bfbafe41f05"
   },
   "source": [
    "Check the data in `.h5` file inspecting for its keys and type of items:"
   ]
  },
  {
   "cell_type": "code",
   "execution_count": 5,
   "id": "84828715-d4cf-4548-b6e4-d0db28ddba19",
   "metadata": {
    "colab": {
     "base_uri": "https://localhost:8080/"
    },
    "executionInfo": {
     "elapsed": 16,
     "status": "ok",
     "timestamp": 1723825218970,
     "user": {
      "displayName": "Adolfo Scheidt",
      "userId": "09124212706277105639"
     },
     "user_tz": 180
    },
    "id": "84828715-d4cf-4548-b6e4-d0db28ddba19",
    "outputId": "d04298c8-534b-4257-db52-84cf59e917a2"
   },
   "outputs": [
    {
     "name": "stdout",
     "output_type": "stream",
     "text": [
      "key: train_images\n",
      "item type: <class 'h5py._hl.dataset.Dataset'>\n"
     ]
    }
   ],
   "source": [
    "file_path = 'data/train_images.h5'\n",
    "\n",
    "with h5py.File(file_path, 'r') as f:\n",
    "    for key in f.keys():\n",
    "        print(\"key:\", key)\n",
    "        print(\"item type:\", type(f[key]))"
   ]
  },
  {
   "cell_type": "markdown",
   "id": "d428f0fd-ade1-44a5-b79b-7bb6b72b7344",
   "metadata": {
    "id": "d428f0fd-ade1-44a5-b79b-7bb6b72b7344"
   },
   "source": [
    "We can see that `train_images` is the only key available, and the data type is a `Dataset`."
   ]
  },
  {
   "cell_type": "markdown",
   "id": "8af670c5-61e1-4c47-89f6-4d821d16ed8b",
   "metadata": {
    "id": "8af670c5-61e1-4c47-89f6-4d821d16ed8b"
   },
   "source": [
    "We can read and store `train_images` data in the `train_data` variable as a NumPy array:"
   ]
  },
  {
   "cell_type": "code",
   "execution_count": 6,
   "id": "8334affb-cd64-4fb9-bc0e-885def8b46dd",
   "metadata": {
    "colab": {
     "base_uri": "https://localhost:8080/"
    },
    "executionInfo": {
     "elapsed": 475,
     "status": "ok",
     "timestamp": 1723825219429,
     "user": {
      "displayName": "Adolfo Scheidt",
      "userId": "09124212706277105639"
     },
     "user_tz": 180
    },
    "id": "8334affb-cd64-4fb9-bc0e-885def8b46dd",
    "outputId": "ff1dfbaa-1cb4-46e5-ca30-142d0fbf185b"
   },
   "outputs": [
    {
     "name": "stdout",
     "output_type": "stream",
     "text": [
      "dataset type: <class 'numpy.ndarray'>\n"
     ]
    }
   ],
   "source": [
    "with h5py.File(file_path, 'r') as f:\n",
    "    train_data = f['train_images'][:]\n",
    "\n",
    "print(\"dataset type:\", type(train_data))"
   ]
  },
  {
   "cell_type": "markdown",
   "id": "a63213c5-3c81-4dbe-9053-49168685ad94",
   "metadata": {
    "id": "a63213c5-3c81-4dbe-9053-49168685ad94"
   },
   "source": [
    "Check the shape of `train_data`:"
   ]
  },
  {
   "cell_type": "code",
   "execution_count": 7,
   "id": "4589a417-75f6-4a61-a80d-c15282614f5d",
   "metadata": {
    "colab": {
     "base_uri": "https://localhost:8080/"
    },
    "executionInfo": {
     "elapsed": 6,
     "status": "ok",
     "timestamp": 1723825219429,
     "user": {
      "displayName": "Adolfo Scheidt",
      "userId": "09124212706277105639"
     },
     "user_tz": 180
    },
    "id": "4589a417-75f6-4a61-a80d-c15282614f5d",
    "outputId": "c09ea413-5399-4cb2-9942-ed0b1ed217fd"
   },
   "outputs": [
    {
     "name": "stdout",
     "output_type": "stream",
     "text": [
      "array shape (50000, 128, 128, 1)\n"
     ]
    }
   ],
   "source": [
    "print(\"array shape\", train_data.shape)"
   ]
  },
  {
   "cell_type": "markdown",
   "id": "0f97c439-1b90-4d2d-8596-bcb220646f54",
   "metadata": {
    "id": "0f97c439-1b90-4d2d-8596-bcb220646f54"
   },
   "source": [
    "The data shape is compliant with the information in test description (50k images, 128x128 pixels and 1 color channel)."
   ]
  },
  {
   "cell_type": "markdown",
   "id": "6fa6bfbb-64f0-470d-bb7c-3a27bb51c846",
   "metadata": {
    "id": "6fa6bfbb-64f0-470d-bb7c-3a27bb51c846"
   },
   "source": [
    "We can check the array range as well:"
   ]
  },
  {
   "cell_type": "code",
   "execution_count": 8,
   "id": "066a04d2-dce7-4a75-b812-201e2ba5b86d",
   "metadata": {
    "colab": {
     "base_uri": "https://localhost:8080/"
    },
    "executionInfo": {
     "elapsed": 517,
     "status": "ok",
     "timestamp": 1723825219943,
     "user": {
      "displayName": "Adolfo Scheidt",
      "userId": "09124212706277105639"
     },
     "user_tz": 180
    },
    "id": "066a04d2-dce7-4a75-b812-201e2ba5b86d",
    "outputId": "3037eb76-0825-49ac-cf89-c3c214a6d88d"
   },
   "outputs": [
    {
     "name": "stdout",
     "output_type": "stream",
     "text": [
      "array range 0 1\n"
     ]
    }
   ],
   "source": [
    "print(\"array range\", train_data.min(), train_data.max())"
   ]
  },
  {
   "cell_type": "markdown",
   "id": "07732612-8bad-4895-a800-0733fad112a2",
   "metadata": {
    "id": "07732612-8bad-4895-a800-0733fad112a2"
   },
   "source": [
    "The range of values is from 0 to 1, also compliant with test description."
   ]
  },
  {
   "cell_type": "code",
   "execution_count": 9,
   "id": "ac3b1227-e4e8-485b-a6ff-280b2bcbb5d5",
   "metadata": {
    "colab": {
     "base_uri": "https://localhost:8080/",
     "height": 435
    },
    "executionInfo": {
     "elapsed": 8,
     "status": "ok",
     "timestamp": 1723825219943,
     "user": {
      "displayName": "Adolfo Scheidt",
      "userId": "09124212706277105639"
     },
     "user_tz": 180
    },
    "id": "ac3b1227-e4e8-485b-a6ff-280b2bcbb5d5",
    "outputId": "df287fbd-78fb-4eef-99aa-c243b457304e"
   },
   "outputs": [
    {
     "data": {
      "image/png": "[encoded data removed]",
      "text/plain": [
       "<Figure size 500x500 with 2 Axes>"
      ]
     },
     "metadata": {},
     "output_type": "display_data"
    }
   ],
   "source": [
    "# visualizing one image from dataset\n",
    "plt.figure(figsize=(5,5))\n",
    "\n",
    "plt.colorbar(plt.imshow(train_data[20]))\n",
    "plt.axis('off')\n",
    "\n",
    "plt.show()"
   ]
  },
  {
   "cell_type": "code",
   "execution_count": 10,
   "id": "c36802e1-79fa-4262-9983-06a5fd2f59d2",
   "metadata": {
    "colab": {
     "base_uri": "https://localhost:8080/",
     "height": 220
    },
    "executionInfo": {
     "elapsed": 972,
     "status": "ok",
     "timestamp": 1723825220910,
     "user": {
      "displayName": "Adolfo Scheidt",
      "userId": "09124212706277105639"
     },
     "user_tz": 180
    },
    "id": "c36802e1-79fa-4262-9983-06a5fd2f59d2",
    "outputId": "859fecdf-0b8e-4890-cc96-ab5fff1441e1"
   },
   "outputs": [
    {
     "data": {
      "image/png": "[encoded data removed]",
      "text/plain": [
       "<Figure size 2000x2000 with 10 Axes>"
      ]
     },
     "metadata": {},
     "output_type": "display_data"
    }
   ],
   "source": [
    "# visualizing 10 images\n",
    "plot_images(train_data[:10])"
   ]
  },
  {
   "cell_type": "markdown",
   "id": "35bda7cd-defd-49db-baed-953e2eebc159",
   "metadata": {
    "id": "35bda7cd-defd-49db-baed-953e2eebc159"
   },
   "source": [
    "# Resizing the data"
   ]
  },
  {
   "cell_type": "markdown",
   "id": "4b11a506-33a5-453f-a50c-ac77aaa9b42f",
   "metadata": {
    "id": "4b11a506-33a5-453f-a50c-ac77aaa9b42f"
   },
   "source": [
    "I've decided to lower image resolution by 1/4, i.e. 32x32 pixels, to reduce computation time while training."
   ]
  },
  {
   "cell_type": "code",
   "execution_count": 11,
   "id": "e7dc5960-8839-42db-b511-829701d57db0",
   "metadata": {
    "executionInfo": {
     "elapsed": 3180,
     "status": "ok",
     "timestamp": 1723825224084,
     "user": {
      "displayName": "Adolfo Scheidt",
      "userId": "09124212706277105639"
     },
     "user_tz": 180
    },
    "id": "e7dc5960-8839-42db-b511-829701d57db0"
   },
   "outputs": [],
   "source": [
    "resized_train_data = keras.preprocessing.image.smart_resize(\n",
    "    train_data, (32,32), interpolation='bilinear'\n",
    ")"
   ]
  },
  {
   "cell_type": "markdown",
   "id": "c7d17fe1-dea1-4889-8f02-cbdbf8960a21",
   "metadata": {
    "id": "c7d17fe1-dea1-4889-8f02-cbdbf8960a21"
   },
   "source": [
    "Check that `resized_train_data` shape and range have expected values:"
   ]
  },
  {
   "cell_type": "code",
   "execution_count": 12,
   "id": "1ac6d444-53d8-457a-89ee-14aa63bb3027",
   "metadata": {
    "colab": {
     "base_uri": "https://localhost:8080/"
    },
    "executionInfo": {
     "elapsed": 25,
     "status": "ok",
     "timestamp": 1723825224085,
     "user": {
      "displayName": "Adolfo Scheidt",
      "userId": "09124212706277105639"
     },
     "user_tz": 180
    },
    "id": "1ac6d444-53d8-457a-89ee-14aa63bb3027",
    "outputId": "0d1737d4-e2d4-4a1a-e5b0-a035a4d1c7ac"
   },
   "outputs": [
    {
     "name": "stdout",
     "output_type": "stream",
     "text": [
      "array shape (50000, 32, 32, 1)\n",
      "array range 0 1\n"
     ]
    }
   ],
   "source": [
    "print(\"array shape\", resized_train_data.shape)\n",
    "print(\"array range\", resized_train_data.min(), resized_train_data.max())"
   ]
  },
  {
   "cell_type": "markdown",
   "id": "1a8b09c8-e9e9-489f-9631-bdc7522a6d1a",
   "metadata": {
    "id": "1a8b09c8-e9e9-489f-9631-bdc7522a6d1a"
   },
   "source": [
    "Visualize the images after transformation:"
   ]
  },
  {
   "cell_type": "code",
   "execution_count": 13,
   "id": "47ad024a-c602-46a0-ba5e-3e48a5650bbc",
   "metadata": {
    "colab": {
     "base_uri": "https://localhost:8080/",
     "height": 220
    },
    "executionInfo": {
     "elapsed": 515,
     "status": "ok",
     "timestamp": 1723825224579,
     "user": {
      "displayName": "Adolfo Scheidt",
      "userId": "09124212706277105639"
     },
     "user_tz": 180
    },
    "id": "47ad024a-c602-46a0-ba5e-3e48a5650bbc",
    "outputId": "d55c2bdb-aefc-4ae7-f5af-614e5dea2be0"
   },
   "outputs": [
    {
     "data": {
      "image/png": "[encoded data removed]",
      "text/plain": [
       "<Figure size 2000x2000 with 10 Axes>"
      ]
     },
     "metadata": {},
     "output_type": "display_data"
    }
   ],
   "source": [
    "plot_images(resized_train_data[:10])"
   ]
  },
  {
   "cell_type": "markdown",
   "id": "327f0e84-4ce1-4d79-9f85-15fa16f83269",
   "metadata": {
    "id": "327f0e84-4ce1-4d79-9f85-15fa16f83269"
   },
   "source": [
    "We can see that the main features of the images were preserved, so training results won't have significant impact from the resizing."
   ]
  },
  {
   "cell_type": "markdown",
   "id": "b52f63ec-bca2-4d71-9d70-82438e4b5b25",
   "metadata": {
    "id": "b52f63ec-bca2-4d71-9d70-82438e4b5b25"
   },
   "source": [
    "# Variational Autoencoders (VAEs)"
   ]
  },
  {
   "cell_type": "markdown",
   "id": "520a864f-f8ed-4f11-8875-9d507bfc76a6",
   "metadata": {
    "id": "520a864f-f8ed-4f11-8875-9d507bfc76a6"
   },
   "source": [
    "Variational Autoencoders (VAEs) are a type of generative model that combines the principles of variational inference and autoencoders. VAEs are designed to learn a latent representation of input data that can be used to generate new, similar data samples. They are widely used in applications like image generation, anomaly detection, and data compression.\n",
    "\n",
    "A VAE consists of two main components: an encoder and a decoder. The encoder maps input data (e.g., images) into a latent space by learning a probabilistic distribution over the latent variables, usually modeled as a Gaussian distribution with mean (`z_mean`) and variance (`z_log_var`). The decoder then reconstructs the original data from a sampled point in this latent space, effectively generating new data points.\n",
    "\n",
    "## Sampling Class\n",
    "\n",
    "The Sampling class is responsible for introducing regularization into the latent space. This class samples a latent vector `z` using `z_mean` and `z_log_var` provided by the encoder.\n",
    "\n",
    "In a VAE, the encoder outputs `z_mean` and `z_log_var`, which define a Gaussian distribution. The Sampling class is used to draw samples from this distribution. These samples, represented by the latent vector `z`, are then passed to the decoder for reconstruction. The Sampling class is critical because it enables the model to generate new data points by sampling from the latent space.\n",
    "\n",
    "This sampling process is also integral to calculating the Kullback–Leibler (KL) divergence loss, which measures how much the learned distribution (defined by `z_mean` and `z_log_var`) deviates from a standard normal distribution. The KL loss is combined with the reconstruction loss during training, encouraging the encoder to produce a latent space where the data points are organized in a way that approximates a Gaussian distribution."
   ]
  },
  {
   "cell_type": "code",
   "execution_count": 14,
   "id": "24020b75-393a-4439-ba43-67a2797dafa2",
   "metadata": {
    "executionInfo": {
     "elapsed": 6,
     "status": "ok",
     "timestamp": 1723825224580,
     "user": {
      "displayName": "Adolfo Scheidt",
      "userId": "09124212706277105639"
     },
     "user_tz": 180
    },
    "id": "24020b75-393a-4439-ba43-67a2797dafa2"
   },
   "outputs": [],
   "source": [
    "# sample vectors from the latent space\n",
    "class Sampling(layers.Layer):\n",
    "    \"\"\"\"Uses (z_mean, z_log_var) to sample z, the vector enconding an image.\"\"\"\n",
    "    def call(self, inputs):\n",
    "        z_mean, z_log_var = inputs\n",
    "        batch = tf.shape(z_mean)[0]\n",
    "        dim = tf.shape(z_mean)[1]\n",
    "        epsilon = tf.keras.backend.random_normal(shape=(batch,dim))\n",
    "        return z_mean + tf.exp(0.5 * z_log_var) * epsilon # reparametrization trick"
   ]
  },
  {
   "cell_type": "markdown",
   "id": "4c7a3aff-83b8-4c49-84f9-fd432f3da877",
   "metadata": {
    "id": "4c7a3aff-83b8-4c49-84f9-fd432f3da877"
   },
   "source": [
    "# VAE Models"
   ]
  },
  {
   "cell_type": "markdown",
   "id": "92ad50bc-db1a-4582-9e36-7a70c8fccb6e",
   "metadata": {
    "id": "92ad50bc-db1a-4582-9e36-7a70c8fccb6e"
   },
   "source": [
    "## Convolutional + Dense (Fully Connected) VAE"
   ]
  },
  {
   "cell_type": "markdown",
   "id": "16a52076-85bb-4cd1-adf4-3c0a579ed75d",
   "metadata": {
    "id": "16a52076-85bb-4cd1-adf4-3c0a579ed75d"
   },
   "source": [
    "In this implementation, we combine convolutional and dense layers in our VAE to leverage both spatial awareness and global pattern recognition. Convolutional layers are adept at capturing local features in the input data, while dense layers enable the model to identify broader, more abstract patterns. This hybrid approach not only enhances the model's ability to generate realistic and semantically meaningful images but also reduces the number of parameters compared to fully connected VAEs, improving computational efficiency."
   ]
  },
  {
   "cell_type": "markdown",
   "id": "c17336b2-50d0-4564-8ca9-53ea37754771",
   "metadata": {
    "id": "c17336b2-50d0-4564-8ca9-53ea37754771"
   },
   "source": [
    "### Encoder"
   ]
  },
  {
   "cell_type": "code",
   "execution_count": 15,
   "id": "921ff014-6438-4344-a4a7-2246b34db327",
   "metadata": {
    "executionInfo": {
     "elapsed": 5,
     "status": "ok",
     "timestamp": 1723825224580,
     "user": {
      "displayName": "Adolfo Scheidt",
      "userId": "09124212706277105639"
     },
     "user_tz": 180
    },
    "id": "921ff014-6438-4344-a4a7-2246b34db327"
   },
   "outputs": [],
   "source": [
    "# define the encoder network\n",
    "latent_dim = 100\n",
    "\n",
    "encoder_inputs = tf.keras.Input(shape=(32, 32, 1))\n",
    "x = layers.Conv2D(32, 3, strides=2, activation=\"relu\", padding=\"same\")(encoder_inputs)\n",
    "x = layers.Conv2D(64, 3, strides=2, activation=\"relu\", padding=\"same\")(x)\n",
    "x = layers.Flatten()(x)\n",
    "x = layers.Dense(64, activation=\"relu\")(x)\n",
    "z_mean = layers.Dense(latent_dim, name=\"z_mean\")(x)\n",
    "z_log_var = layers.Dense(latent_dim, name=\"z_log_var\")(x)\n",
    "z = Sampling()([z_mean, z_log_var])"
   ]
  },
  {
   "cell_type": "code",
   "execution_count": 16,
   "id": "40783f2b-2697-4e07-903c-ee753660d687",
   "metadata": {
    "colab": {
     "base_uri": "https://localhost:8080/",
     "height": 401
    },
    "executionInfo": {
     "elapsed": 5,
     "status": "ok",
     "timestamp": 1723825224580,
     "user": {
      "displayName": "Adolfo Scheidt",
      "userId": "09124212706277105639"
     },
     "user_tz": 180
    },
    "id": "40783f2b-2697-4e07-903c-ee753660d687",
    "outputId": "217c3b07-78f3-4a44-8972-577e81cc1433"
   },
   "outputs": [
    {
     "data": {
      "text/html": [
       "<pre style=\"white-space:pre;overflow-x:auto;line-height:normal;font-family:Menlo,'DejaVu Sans Mono',consolas,'Courier New',monospace\"><span style=\"font-weight: bold\">Model: \"encoder\"</span>\n",
       "</pre>\n"
      ],
      "text/plain": [
       "\u001b[1mModel: \"encoder\"\u001b[0m\n"
      ]
     },
     "metadata": {},
     "output_type": "display_data"
    },
    {
     "data": {
      "text/html": [
       "<pre style=\"white-space:pre;overflow-x:auto;line-height:normal;font-family:Menlo,'DejaVu Sans Mono',consolas,'Courier New',monospace\">┏━━━━━━━━━━━━━━━━━━━━━━━━━━━┳━━━━━━━━━━━━━━━━━━━━━━━━┳━━━━━━━━━━━━━━━━┳━━━━━━━━━━━━━━━━━━━━━━━━┓\n",
       "┃<span style=\"font-weight: bold\"> Layer (type)              </span>┃<span style=\"font-weight: bold\"> Output Shape           </span>┃<span style=\"font-weight: bold\">        Param # </span>┃<span style=\"font-weight: bold\"> Connected to           </span>┃\n",
       "┡━━━━━━━━━━━━━━━━━━━━━━━━━━━╇━━━━━━━━━━━━━━━━━━━━━━━━╇━━━━━━━━━━━━━━━━╇━━━━━━━━━━━━━━━━━━━━━━━━┩\n",
       "│ input_layer (<span style=\"color: #0087ff; text-decoration-color: #0087ff\">InputLayer</span>)  │ (<span style=\"color: #00d7ff; text-decoration-color: #00d7ff\">None</span>, <span style=\"color: #00af00; text-decoration-color: #00af00\">32</span>, <span style=\"color: #00af00; text-decoration-color: #00af00\">32</span>, <span style=\"color: #00af00; text-decoration-color: #00af00\">1</span>)      │              <span style=\"color: #00af00; text-decoration-color: #00af00\">0</span> │ -                      │\n",
       "├───────────────────────────┼────────────────────────┼────────────────┼────────────────────────┤\n",
       "│ conv2d (<span style=\"color: #0087ff; text-decoration-color: #0087ff\">Conv2D</span>)           │ (<span style=\"color: #00d7ff; text-decoration-color: #00d7ff\">None</span>, <span style=\"color: #00af00; text-decoration-color: #00af00\">16</span>, <span style=\"color: #00af00; text-decoration-color: #00af00\">16</span>, <span style=\"color: #00af00; text-decoration-color: #00af00\">32</span>)     │            <span style=\"color: #00af00; text-decoration-color: #00af00\">320</span> │ input_layer[<span style=\"color: #00af00; text-decoration-color: #00af00\">0</span>][<span style=\"color: #00af00; text-decoration-color: #00af00\">0</span>]      │\n",
       "├───────────────────────────┼────────────────────────┼────────────────┼────────────────────────┤\n",
       "│ conv2d_1 (<span style=\"color: #0087ff; text-decoration-color: #0087ff\">Conv2D</span>)         │ (<span style=\"color: #00d7ff; text-decoration-color: #00d7ff\">None</span>, <span style=\"color: #00af00; text-decoration-color: #00af00\">8</span>, <span style=\"color: #00af00; text-decoration-color: #00af00\">8</span>, <span style=\"color: #00af00; text-decoration-color: #00af00\">64</span>)       │         <span style=\"color: #00af00; text-decoration-color: #00af00\">18,496</span> │ conv2d[<span style=\"color: #00af00; text-decoration-color: #00af00\">0</span>][<span style=\"color: #00af00; text-decoration-color: #00af00\">0</span>]           │\n",
       "├───────────────────────────┼────────────────────────┼────────────────┼────────────────────────┤\n",
       "│ flatten (<span style=\"color: #0087ff; text-decoration-color: #0087ff\">Flatten</span>)         │ (<span style=\"color: #00d7ff; text-decoration-color: #00d7ff\">None</span>, <span style=\"color: #00af00; text-decoration-color: #00af00\">4096</span>)           │              <span style=\"color: #00af00; text-decoration-color: #00af00\">0</span> │ conv2d_1[<span style=\"color: #00af00; text-decoration-color: #00af00\">0</span>][<span style=\"color: #00af00; text-decoration-color: #00af00\">0</span>]         │\n",
       "├───────────────────────────┼────────────────────────┼────────────────┼────────────────────────┤\n",
       "│ dense (<span style=\"color: #0087ff; text-decoration-color: #0087ff\">Dense</span>)             │ (<span style=\"color: #00d7ff; text-decoration-color: #00d7ff\">None</span>, <span style=\"color: #00af00; text-decoration-color: #00af00\">64</span>)             │        <span style=\"color: #00af00; text-decoration-color: #00af00\">262,208</span> │ flatten[<span style=\"color: #00af00; text-decoration-color: #00af00\">0</span>][<span style=\"color: #00af00; text-decoration-color: #00af00\">0</span>]          │\n",
       "├───────────────────────────┼────────────────────────┼────────────────┼────────────────────────┤\n",
       "│ z_mean (<span style=\"color: #0087ff; text-decoration-color: #0087ff\">Dense</span>)            │ (<span style=\"color: #00d7ff; text-decoration-color: #00d7ff\">None</span>, <span style=\"color: #00af00; text-decoration-color: #00af00\">100</span>)            │          <span style=\"color: #00af00; text-decoration-color: #00af00\">6,500</span> │ dense[<span style=\"color: #00af00; text-decoration-color: #00af00\">0</span>][<span style=\"color: #00af00; text-decoration-color: #00af00\">0</span>]            │\n",
       "├───────────────────────────┼────────────────────────┼────────────────┼────────────────────────┤\n",
       "│ z_log_var (<span style=\"color: #0087ff; text-decoration-color: #0087ff\">Dense</span>)         │ (<span style=\"color: #00d7ff; text-decoration-color: #00d7ff\">None</span>, <span style=\"color: #00af00; text-decoration-color: #00af00\">100</span>)            │          <span style=\"color: #00af00; text-decoration-color: #00af00\">6,500</span> │ dense[<span style=\"color: #00af00; text-decoration-color: #00af00\">0</span>][<span style=\"color: #00af00; text-decoration-color: #00af00\">0</span>]            │\n",
       "├───────────────────────────┼────────────────────────┼────────────────┼────────────────────────┤\n",
       "│ sampling (<span style=\"color: #0087ff; text-decoration-color: #0087ff\">Sampling</span>)       │ (<span style=\"color: #00d7ff; text-decoration-color: #00d7ff\">None</span>, <span style=\"color: #00af00; text-decoration-color: #00af00\">100</span>)            │              <span style=\"color: #00af00; text-decoration-color: #00af00\">0</span> │ z_mean[<span style=\"color: #00af00; text-decoration-color: #00af00\">0</span>][<span style=\"color: #00af00; text-decoration-color: #00af00\">0</span>],          │\n",
       "│                           │                        │                │ z_log_var[<span style=\"color: #00af00; text-decoration-color: #00af00\">0</span>][<span style=\"color: #00af00; text-decoration-color: #00af00\">0</span>]        │\n",
       "└───────────────────────────┴────────────────────────┴────────────────┴────────────────────────┘\n",
       "</pre>\n"
      ],
      "text/plain": [
       "┏━━━━━━━━━━━━━━━━━━━━━━━━━━━┳━━━━━━━━━━━━━━━━━━━━━━━━┳━━━━━━━━━━━━━━━━┳━━━━━━━━━━━━━━━━━━━━━━━━┓\n",
       "┃\u001b[1m \u001b[0m\u001b[1mLayer (type)             \u001b[0m\u001b[1m \u001b[0m┃\u001b[1m \u001b[0m\u001b[1mOutput Shape          \u001b[0m\u001b[1m \u001b[0m┃\u001b[1m \u001b[0m\u001b[1m       Param #\u001b[0m\u001b[1m \u001b[0m┃\u001b[1m \u001b[0m\u001b[1mConnected to          \u001b[0m\u001b[1m \u001b[0m┃\n",
       "┡━━━━━━━━━━━━━━━━━━━━━━━━━━━╇━━━━━━━━━━━━━━━━━━━━━━━━╇━━━━━━━━━━━━━━━━╇━━━━━━━━━━━━━━━━━━━━━━━━┩\n",
       "│ input_layer (\u001b[38;5;33mInputLayer\u001b[0m)  │ (\u001b[38;5;45mNone\u001b[0m, \u001b[38;5;34m32\u001b[0m, \u001b[38;5;34m32\u001b[0m, \u001b[38;5;34m1\u001b[0m)      │              \u001b[38;5;34m0\u001b[0m │ -                      │\n",
       "├───────────────────────────┼────────────────────────┼────────────────┼────────────────────────┤\n",
       "│ conv2d (\u001b[38;5;33mConv2D\u001b[0m)           │ (\u001b[38;5;45mNone\u001b[0m, \u001b[38;5;34m16\u001b[0m, \u001b[38;5;34m16\u001b[0m, \u001b[38;5;34m32\u001b[0m)     │            \u001b[38;5;34m320\u001b[0m │ input_layer[\u001b[38;5;34m0\u001b[0m][\u001b[38;5;34m0\u001b[0m]      │\n",
       "├───────────────────────────┼────────────────────────┼────────────────┼────────────────────────┤\n",
       "│ conv2d_1 (\u001b[38;5;33mConv2D\u001b[0m)         │ (\u001b[38;5;45mNone\u001b[0m, \u001b[38;5;34m8\u001b[0m, \u001b[38;5;34m8\u001b[0m, \u001b[38;5;34m64\u001b[0m)       │         \u001b[38;5;34m18,496\u001b[0m │ conv2d[\u001b[38;5;34m0\u001b[0m][\u001b[38;5;34m0\u001b[0m]           │\n",
       "├───────────────────────────┼────────────────────────┼────────────────┼────────────────────────┤\n",
       "│ flatten (\u001b[38;5;33mFlatten\u001b[0m)         │ (\u001b[38;5;45mNone\u001b[0m, \u001b[38;5;34m4096\u001b[0m)           │              \u001b[38;5;34m0\u001b[0m │ conv2d_1[\u001b[38;5;34m0\u001b[0m][\u001b[38;5;34m0\u001b[0m]         │\n",
       "├───────────────────────────┼────────────────────────┼────────────────┼────────────────────────┤\n",
       "│ dense (\u001b[38;5;33mDense\u001b[0m)             │ (\u001b[38;5;45mNone\u001b[0m, \u001b[38;5;34m64\u001b[0m)             │        \u001b[38;5;34m262,208\u001b[0m │ flatten[\u001b[38;5;34m0\u001b[0m][\u001b[38;5;34m0\u001b[0m]          │\n",
       "├───────────────────────────┼────────────────────────┼────────────────┼────────────────────────┤\n",
       "│ z_mean (\u001b[38;5;33mDense\u001b[0m)            │ (\u001b[38;5;45mNone\u001b[0m, \u001b[38;5;34m100\u001b[0m)            │          \u001b[38;5;34m6,500\u001b[0m │ dense[\u001b[38;5;34m0\u001b[0m][\u001b[38;5;34m0\u001b[0m]            │\n",
       "├───────────────────────────┼────────────────────────┼────────────────┼────────────────────────┤\n",
       "│ z_log_var (\u001b[38;5;33mDense\u001b[0m)         │ (\u001b[38;5;45mNone\u001b[0m, \u001b[38;5;34m100\u001b[0m)            │          \u001b[38;5;34m6,500\u001b[0m │ dense[\u001b[38;5;34m0\u001b[0m][\u001b[38;5;34m0\u001b[0m]            │\n",
       "├───────────────────────────┼────────────────────────┼────────────────┼────────────────────────┤\n",
       "│ sampling (\u001b[38;5;33mSampling\u001b[0m)       │ (\u001b[38;5;45mNone\u001b[0m, \u001b[38;5;34m100\u001b[0m)            │              \u001b[38;5;34m0\u001b[0m │ z_mean[\u001b[38;5;34m0\u001b[0m][\u001b[38;5;34m0\u001b[0m],          │\n",
       "│                           │                        │                │ z_log_var[\u001b[38;5;34m0\u001b[0m][\u001b[38;5;34m0\u001b[0m]        │\n",
       "└───────────────────────────┴────────────────────────┴────────────────┴────────────────────────┘\n"
      ]
     },
     "metadata": {},
     "output_type": "display_data"
    },
    {
     "data": {
      "text/html": [
       "<pre style=\"white-space:pre;overflow-x:auto;line-height:normal;font-family:Menlo,'DejaVu Sans Mono',consolas,'Courier New',monospace\"><span style=\"font-weight: bold\"> Total params: </span><span style=\"color: #00af00; text-decoration-color: #00af00\">294,024</span> (1.12 MB)\n",
       "</pre>\n"
      ],
      "text/plain": [
       "\u001b[1m Total params: \u001b[0m\u001b[38;5;34m294,024\u001b[0m (1.12 MB)\n"
      ]
     },
     "metadata": {},
     "output_type": "display_data"
    },
    {
     "data": {
      "text/html": [
       "<pre style=\"white-space:pre;overflow-x:auto;line-height:normal;font-family:Menlo,'DejaVu Sans Mono',consolas,'Courier New',monospace\"><span style=\"font-weight: bold\"> Trainable params: </span><span style=\"color: #00af00; text-decoration-color: #00af00\">294,024</span> (1.12 MB)\n",
       "</pre>\n"
      ],
      "text/plain": [
       "\u001b[1m Trainable params: \u001b[0m\u001b[38;5;34m294,024\u001b[0m (1.12 MB)\n"
      ]
     },
     "metadata": {},
     "output_type": "display_data"
    },
    {
     "data": {
      "text/html": [
       "<pre style=\"white-space:pre;overflow-x:auto;line-height:normal;font-family:Menlo,'DejaVu Sans Mono',consolas,'Courier New',monospace\"><span style=\"font-weight: bold\"> Non-trainable params: </span><span style=\"color: #00af00; text-decoration-color: #00af00\">0</span> (0.00 B)\n",
       "</pre>\n"
      ],
      "text/plain": [
       "\u001b[1m Non-trainable params: \u001b[0m\u001b[38;5;34m0\u001b[0m (0.00 B)\n"
      ]
     },
     "metadata": {},
     "output_type": "display_data"
    }
   ],
   "source": [
    "# create the encoder model\n",
    "encoder = keras.Model(encoder_inputs, [z_mean, z_log_var, z], name=\"encoder\")\n",
    "encoder.summary()"
   ]
  },
  {
   "cell_type": "markdown",
   "id": "6537b0b7-f658-4558-93c2-96c28917a920",
   "metadata": {
    "id": "6537b0b7-f658-4558-93c2-96c28917a920"
   },
   "source": [
    "### Decoder"
   ]
  },
  {
   "cell_type": "code",
   "execution_count": 17,
   "id": "a50631ba-4127-4906-b890-3a2628d8deb2",
   "metadata": {
    "executionInfo": {
     "elapsed": 11,
     "status": "ok",
     "timestamp": 1723825224969,
     "user": {
      "displayName": "Adolfo Scheidt",
      "userId": "09124212706277105639"
     },
     "user_tz": 180
    },
    "id": "a50631ba-4127-4906-b890-3a2628d8deb2"
   },
   "outputs": [],
   "source": [
    "# define the decoder network\n",
    "decoder_inputs = layers.Input(shape=(latent_dim,))\n",
    "x = layers.Dense(8 * 8 * 64, activation=\"relu\")(decoder_inputs)\n",
    "x = layers.Reshape((8, 8, 64))(x)\n",
    "x = layers.Conv2DTranspose(64, 3, strides=2, activation=\"relu\", padding=\"same\")(x)\n",
    "x = layers.Conv2DTranspose(32, 3, strides=2, activation=\"relu\", padding=\"same\")(x)\n",
    "decoder_outputs = layers.Conv2DTranspose(1, 3, activation=\"sigmoid\", padding=\"same\")(x)"
   ]
  },
  {
   "cell_type": "code",
   "execution_count": 18,
   "id": "b408961b-7b37-4bb1-9b3a-0c543f927aa0",
   "metadata": {
    "colab": {
     "base_uri": "https://localhost:8080/",
     "height": 321
    },
    "executionInfo": {
     "elapsed": 10,
     "status": "ok",
     "timestamp": 1723825224969,
     "user": {
      "displayName": "Adolfo Scheidt",
      "userId": "09124212706277105639"
     },
     "user_tz": 180
    },
    "id": "b408961b-7b37-4bb1-9b3a-0c543f927aa0",
    "outputId": "44cb138e-144c-4efd-ff68-244bf7cdb4ff"
   },
   "outputs": [
    {
     "data": {
      "text/html": [
       "<pre style=\"white-space:pre;overflow-x:auto;line-height:normal;font-family:Menlo,'DejaVu Sans Mono',consolas,'Courier New',monospace\"><span style=\"font-weight: bold\">Model: \"decoder\"</span>\n",
       "</pre>\n"
      ],
      "text/plain": [
       "\u001b[1mModel: \"decoder\"\u001b[0m\n"
      ]
     },
     "metadata": {},
     "output_type": "display_data"
    },
    {
     "data": {
      "text/html": [
       "<pre style=\"white-space:pre;overflow-x:auto;line-height:normal;font-family:Menlo,'DejaVu Sans Mono',consolas,'Courier New',monospace\">┏━━━━━━━━━━━━━━━━━━━━━━━━━━━━━━━━━━━━━━┳━━━━━━━━━━━━━━━━━━━━━━━━━━━━━┳━━━━━━━━━━━━━━━━━┓\n",
       "┃<span style=\"font-weight: bold\"> Layer (type)                         </span>┃<span style=\"font-weight: bold\"> Output Shape                </span>┃<span style=\"font-weight: bold\">         Param # </span>┃\n",
       "┡━━━━━━━━━━━━━━━━━━━━━━━━━━━━━━━━━━━━━━╇━━━━━━━━━━━━━━━━━━━━━━━━━━━━━╇━━━━━━━━━━━━━━━━━┩\n",
       "│ input_layer_1 (<span style=\"color: #0087ff; text-decoration-color: #0087ff\">InputLayer</span>)           │ (<span style=\"color: #00d7ff; text-decoration-color: #00d7ff\">None</span>, <span style=\"color: #00af00; text-decoration-color: #00af00\">100</span>)                 │               <span style=\"color: #00af00; text-decoration-color: #00af00\">0</span> │\n",
       "├──────────────────────────────────────┼─────────────────────────────┼─────────────────┤\n",
       "│ dense_1 (<span style=\"color: #0087ff; text-decoration-color: #0087ff\">Dense</span>)                      │ (<span style=\"color: #00d7ff; text-decoration-color: #00d7ff\">None</span>, <span style=\"color: #00af00; text-decoration-color: #00af00\">4096</span>)                │         <span style=\"color: #00af00; text-decoration-color: #00af00\">413,696</span> │\n",
       "├──────────────────────────────────────┼─────────────────────────────┼─────────────────┤\n",
       "│ reshape (<span style=\"color: #0087ff; text-decoration-color: #0087ff\">Reshape</span>)                    │ (<span style=\"color: #00d7ff; text-decoration-color: #00d7ff\">None</span>, <span style=\"color: #00af00; text-decoration-color: #00af00\">8</span>, <span style=\"color: #00af00; text-decoration-color: #00af00\">8</span>, <span style=\"color: #00af00; text-decoration-color: #00af00\">64</span>)            │               <span style=\"color: #00af00; text-decoration-color: #00af00\">0</span> │\n",
       "├──────────────────────────────────────┼─────────────────────────────┼─────────────────┤\n",
       "│ conv2d_transpose (<span style=\"color: #0087ff; text-decoration-color: #0087ff\">Conv2DTranspose</span>)   │ (<span style=\"color: #00d7ff; text-decoration-color: #00d7ff\">None</span>, <span style=\"color: #00af00; text-decoration-color: #00af00\">16</span>, <span style=\"color: #00af00; text-decoration-color: #00af00\">16</span>, <span style=\"color: #00af00; text-decoration-color: #00af00\">64</span>)          │          <span style=\"color: #00af00; text-decoration-color: #00af00\">36,928</span> │\n",
       "├──────────────────────────────────────┼─────────────────────────────┼─────────────────┤\n",
       "│ conv2d_transpose_1 (<span style=\"color: #0087ff; text-decoration-color: #0087ff\">Conv2DTranspose</span>) │ (<span style=\"color: #00d7ff; text-decoration-color: #00d7ff\">None</span>, <span style=\"color: #00af00; text-decoration-color: #00af00\">32</span>, <span style=\"color: #00af00; text-decoration-color: #00af00\">32</span>, <span style=\"color: #00af00; text-decoration-color: #00af00\">32</span>)          │          <span style=\"color: #00af00; text-decoration-color: #00af00\">18,464</span> │\n",
       "├──────────────────────────────────────┼─────────────────────────────┼─────────────────┤\n",
       "│ conv2d_transpose_2 (<span style=\"color: #0087ff; text-decoration-color: #0087ff\">Conv2DTranspose</span>) │ (<span style=\"color: #00d7ff; text-decoration-color: #00d7ff\">None</span>, <span style=\"color: #00af00; text-decoration-color: #00af00\">32</span>, <span style=\"color: #00af00; text-decoration-color: #00af00\">32</span>, <span style=\"color: #00af00; text-decoration-color: #00af00\">1</span>)           │             <span style=\"color: #00af00; text-decoration-color: #00af00\">289</span> │\n",
       "└──────────────────────────────────────┴─────────────────────────────┴─────────────────┘\n",
       "</pre>\n"
      ],
      "text/plain": [
       "┏━━━━━━━━━━━━━━━━━━━━━━━━━━━━━━━━━━━━━━┳━━━━━━━━━━━━━━━━━━━━━━━━━━━━━┳━━━━━━━━━━━━━━━━━┓\n",
       "┃\u001b[1m \u001b[0m\u001b[1mLayer (type)                        \u001b[0m\u001b[1m \u001b[0m┃\u001b[1m \u001b[0m\u001b[1mOutput Shape               \u001b[0m\u001b[1m \u001b[0m┃\u001b[1m \u001b[0m\u001b[1m        Param #\u001b[0m\u001b[1m \u001b[0m┃\n",
       "┡━━━━━━━━━━━━━━━━━━━━━━━━━━━━━━━━━━━━━━╇━━━━━━━━━━━━━━━━━━━━━━━━━━━━━╇━━━━━━━━━━━━━━━━━┩\n",
       "│ input_layer_1 (\u001b[38;5;33mInputLayer\u001b[0m)           │ (\u001b[38;5;45mNone\u001b[0m, \u001b[38;5;34m100\u001b[0m)                 │               \u001b[38;5;34m0\u001b[0m │\n",
       "├──────────────────────────────────────┼─────────────────────────────┼─────────────────┤\n",
       "│ dense_1 (\u001b[38;5;33mDense\u001b[0m)                      │ (\u001b[38;5;45mNone\u001b[0m, \u001b[38;5;34m4096\u001b[0m)                │         \u001b[38;5;34m413,696\u001b[0m │\n",
       "├──────────────────────────────────────┼─────────────────────────────┼─────────────────┤\n",
       "│ reshape (\u001b[38;5;33mReshape\u001b[0m)                    │ (\u001b[38;5;45mNone\u001b[0m, \u001b[38;5;34m8\u001b[0m, \u001b[38;5;34m8\u001b[0m, \u001b[38;5;34m64\u001b[0m)            │               \u001b[38;5;34m0\u001b[0m │\n",
       "├──────────────────────────────────────┼─────────────────────────────┼─────────────────┤\n",
       "│ conv2d_transpose (\u001b[38;5;33mConv2DTranspose\u001b[0m)   │ (\u001b[38;5;45mNone\u001b[0m, \u001b[38;5;34m16\u001b[0m, \u001b[38;5;34m16\u001b[0m, \u001b[38;5;34m64\u001b[0m)          │          \u001b[38;5;34m36,928\u001b[0m │\n",
       "├──────────────────────────────────────┼─────────────────────────────┼─────────────────┤\n",
       "│ conv2d_transpose_1 (\u001b[38;5;33mConv2DTranspose\u001b[0m) │ (\u001b[38;5;45mNone\u001b[0m, \u001b[38;5;34m32\u001b[0m, \u001b[38;5;34m32\u001b[0m, \u001b[38;5;34m32\u001b[0m)          │          \u001b[38;5;34m18,464\u001b[0m │\n",
       "├──────────────────────────────────────┼─────────────────────────────┼─────────────────┤\n",
       "│ conv2d_transpose_2 (\u001b[38;5;33mConv2DTranspose\u001b[0m) │ (\u001b[38;5;45mNone\u001b[0m, \u001b[38;5;34m32\u001b[0m, \u001b[38;5;34m32\u001b[0m, \u001b[38;5;34m1\u001b[0m)           │             \u001b[38;5;34m289\u001b[0m │\n",
       "└──────────────────────────────────────┴─────────────────────────────┴─────────────────┘\n"
      ]
     },
     "metadata": {},
     "output_type": "display_data"
    },
    {
     "data": {
      "text/html": [
       "<pre style=\"white-space:pre;overflow-x:auto;line-height:normal;font-family:Menlo,'DejaVu Sans Mono',consolas,'Courier New',monospace\"><span style=\"font-weight: bold\"> Total params: </span><span style=\"color: #00af00; text-decoration-color: #00af00\">469,377</span> (1.79 MB)\n",
       "</pre>\n"
      ],
      "text/plain": [
       "\u001b[1m Total params: \u001b[0m\u001b[38;5;34m469,377\u001b[0m (1.79 MB)\n"
      ]
     },
     "metadata": {},
     "output_type": "display_data"
    },
    {
     "data": {
      "text/html": [
       "<pre style=\"white-space:pre;overflow-x:auto;line-height:normal;font-family:Menlo,'DejaVu Sans Mono',consolas,'Courier New',monospace\"><span style=\"font-weight: bold\"> Trainable params: </span><span style=\"color: #00af00; text-decoration-color: #00af00\">469,377</span> (1.79 MB)\n",
       "</pre>\n"
      ],
      "text/plain": [
       "\u001b[1m Trainable params: \u001b[0m\u001b[38;5;34m469,377\u001b[0m (1.79 MB)\n"
      ]
     },
     "metadata": {},
     "output_type": "display_data"
    },
    {
     "data": {
      "text/html": [
       "<pre style=\"white-space:pre;overflow-x:auto;line-height:normal;font-family:Menlo,'DejaVu Sans Mono',consolas,'Courier New',monospace\"><span style=\"font-weight: bold\"> Non-trainable params: </span><span style=\"color: #00af00; text-decoration-color: #00af00\">0</span> (0.00 B)\n",
       "</pre>\n"
      ],
      "text/plain": [
       "\u001b[1m Non-trainable params: \u001b[0m\u001b[38;5;34m0\u001b[0m (0.00 B)\n"
      ]
     },
     "metadata": {},
     "output_type": "display_data"
    }
   ],
   "source": [
    "# create the decoder model\n",
    "decoder = keras.Model(decoder_inputs, decoder_outputs, name=\"decoder\")\n",
    "\n",
    "decoder.summary()"
   ]
  },
  {
   "cell_type": "markdown",
   "id": "48fc1a0b-6e6a-4c2f-9718-be713fc2f366",
   "metadata": {
    "id": "48fc1a0b-6e6a-4c2f-9718-be713fc2f366"
   },
   "source": [
    "### Model"
   ]
  },
  {
   "cell_type": "code",
   "execution_count": 19,
   "id": "270d79e9-d9cb-4fc4-ae60-322c1c6e901a",
   "metadata": {
    "executionInfo": {
     "elapsed": 7,
     "status": "ok",
     "timestamp": 1723825224969,
     "user": {
      "displayName": "Adolfo Scheidt",
      "userId": "09124212706277105639"
     },
     "user_tz": 180
    },
    "id": "270d79e9-d9cb-4fc4-ae60-322c1c6e901a"
   },
   "outputs": [],
   "source": [
    "class VAE(keras.Model):\n",
    "    def __init__(self, encoder, decoder, **kwargs):\n",
    "        super().__init__(**kwargs)\n",
    "        self.encoder = encoder\n",
    "        self.decoder = decoder\n",
    "        self.total_loss_tracker = keras.metrics.Mean(name=\"total_loss\")\n",
    "        self.reconstruction_loss_tracker = keras.metrics.Mean(name=\"reconstruction_loss\")\n",
    "        self.kl_loss_tracker = keras.metrics.Mean(name=\"kl_loss\")\n",
    "        self.regularization_loss = keras.metrics.Mean(name=\"regularization_loss\")\n",
    "\n",
    "    @property\n",
    "    def metrics(self):\n",
    "        return [self.total_loss_tracker,\n",
    "                self.reconstruction_loss_tracker,\n",
    "                self.kl_loss_tracker,\n",
    "                self.regularization_loss]\n",
    "\n",
    "    def train_step(self, data):\n",
    "        with tf.GradientTape() as tape:\n",
    "            z_mean, z_log_var, z = self.encoder(data, training=True)\n",
    "            reconstruction = self.decoder(z)\n",
    "            reconstruction_loss = tf.reduce_mean(\n",
    "                tf.reduce_sum(\n",
    "                    keras.losses.binary_crossentropy(data, reconstruction), axis=(1,2)\n",
    "                )\n",
    "            )\n",
    "            kl_loss = -0.5 * (1 + z_log_var - tf.square(z_mean) - tf.exp(z_log_var)) # KL divergence loss\n",
    "            kl_loss = tf.reduce_mean(tf.reduce_sum(kl_loss, axis=1))\n",
    "            mean_loss = tf.reduce_mean(tf.square(z_mean))\n",
    "            cov_loss = tf.reduce_mean(tf.exp(z_log_var)- z_log_var - 1)\n",
    "            regularization_loss = mean_loss + cov_loss\n",
    "            total_loss = reconstruction_loss + kl_loss + regularization_loss\n",
    "        grads = tape.gradient(total_loss, self.trainable_weights)\n",
    "        self.optimizer.apply_gradients(zip(grads, self.trainable_weights))\n",
    "        self.total_loss_tracker.update_state(total_loss)\n",
    "        self.reconstruction_loss_tracker.update_state(reconstruction_loss)\n",
    "        self.kl_loss_tracker.update_state(kl_loss)\n",
    "        self.regularization_loss.update_state(regularization_loss)\n",
    "        return {\"loss\": self.total_loss_tracker.result(),\n",
    "                \"reconstruction_loss\": self.reconstruction_loss_tracker.result(),\n",
    "                \"kl_loss\": self.kl_loss_tracker.result(),\n",
    "                \"regularization_loss\": self.regularization_loss.result()\n",
    "            }"
   ]
  },
  {
   "cell_type": "code",
   "execution_count": 20,
   "id": "ce6ef52f-6842-48b0-9291-149587c51f31",
   "metadata": {
    "executionInfo": {
     "elapsed": 8,
     "status": "ok",
     "timestamp": 1723825224970,
     "user": {
      "displayName": "Adolfo Scheidt",
      "userId": "09124212706277105639"
     },
     "user_tz": 180
    },
    "id": "ce6ef52f-6842-48b0-9291-149587c51f31"
   },
   "outputs": [],
   "source": [
    "# define the VAE model\n",
    "vae = VAE(encoder, decoder)\n",
    "\n",
    "# compile the VAE model\n",
    "vae.compile(optimizer=keras.optimizers.Adam())"
   ]
  },
  {
   "cell_type": "markdown",
   "id": "89a71d4d-b9ef-438a-ba68-49a32fe3b181",
   "metadata": {
    "id": "89a71d4d-b9ef-438a-ba68-49a32fe3b181"
   },
   "source": [
    "### Training"
   ]
  },
  {
   "cell_type": "code",
   "execution_count": 21,
   "id": "a1cc20ae-732f-4c1b-b779-5db4002e08f0",
   "metadata": {
    "colab": {
     "base_uri": "https://localhost:8080/"
    },
    "executionInfo": {
     "elapsed": 415800,
     "status": "ok",
     "timestamp": 1723825640763,
     "user": {
      "displayName": "Adolfo Scheidt",
      "userId": "09124212706277105639"
     },
     "user_tz": 180
    },
    "id": "a1cc20ae-732f-4c1b-b779-5db4002e08f0",
    "outputId": "a9e6ff65-6cb2-4d0f-dce7-487010a1eb9f"
   },
   "outputs": [
    {
     "name": "stdout",
     "output_type": "stream",
     "text": [
      "Epoch 1/50\n",
      "\u001b[1m1563/1563\u001b[0m \u001b[32m━━━━━━━━━━━━━━━━━━━━\u001b[0m\u001b[37m\u001b[0m \u001b[1m19s\u001b[0m 6ms/step - kl_loss: 32.7226 - loss: 295.2825 - reconstruction_loss: 261.9054 - regularization_loss: 0.6545\n",
      "Epoch 2/50\n",
      "\u001b[1m1563/1563\u001b[0m \u001b[32m━━━━━━━━━━━━━━━━━━━━\u001b[0m\u001b[37m\u001b[0m \u001b[1m11s\u001b[0m 4ms/step - kl_loss: 47.6436 - loss: 135.6959 - reconstruction_loss: 87.0995 - regularization_loss: 0.9529\n",
      "Epoch 3/50\n",
      "\u001b[1m1563/1563\u001b[0m \u001b[32m━━━━━━━━━━━━━━━━━━━━\u001b[0m\u001b[37m\u001b[0m \u001b[1m6s\u001b[0m 4ms/step - kl_loss: 44.0518 - loss: 113.9171 - reconstruction_loss: 68.9842 - regularization_loss: 0.8810\n",
      "Epoch 4/50\n",
      "\u001b[1m1563/1563\u001b[0m \u001b[32m━━━━━━━━━━━━━━━━━━━━\u001b[0m\u001b[37m\u001b[0m \u001b[1m11s\u001b[0m 5ms/step - kl_loss: 40.8076 - loss: 100.4739 - reconstruction_loss: 58.8502 - regularization_loss: 0.8162\n",
      "Epoch 5/50\n",
      "\u001b[1m1563/1563\u001b[0m \u001b[32m━━━━━━━━━━━━━━━━━━━━\u001b[0m\u001b[37m\u001b[0m \u001b[1m9s\u001b[0m 4ms/step - kl_loss: 38.6637 - loss: 92.0133 - reconstruction_loss: 52.5763 - regularization_loss: 0.7733\n",
      "Epoch 6/50\n",
      "\u001b[1m1563/1563\u001b[0m \u001b[32m━━━━━━━━━━━━━━━━━━━━\u001b[0m\u001b[37m\u001b[0m \u001b[1m6s\u001b[0m 4ms/step - kl_loss: 37.4390 - loss: 86.3913 - reconstruction_loss: 48.2035 - regularization_loss: 0.7488\n",
      "Epoch 7/50\n",
      "\u001b[1m1563/1563\u001b[0m \u001b[32m━━━━━━━━━━━━━━━━━━━━\u001b[0m\u001b[37m\u001b[0m \u001b[1m14s\u001b[0m 6ms/step - kl_loss: 36.5688 - loss: 82.1741 - reconstruction_loss: 44.8739 - regularization_loss: 0.7314\n",
      "Epoch 8/50\n",
      "\u001b[1m1563/1563\u001b[0m \u001b[32m━━━━━━━━━━━━━━━━━━━━\u001b[0m\u001b[37m\u001b[0m \u001b[1m6s\u001b[0m 4ms/step - kl_loss: 35.8766 - loss: 79.0322 - reconstruction_loss: 42.4380 - regularization_loss: 0.7175\n",
      "Epoch 9/50\n",
      "\u001b[1m1563/1563\u001b[0m \u001b[32m━━━━━━━━━━━━━━━━━━━━\u001b[0m\u001b[37m\u001b[0m \u001b[1m10s\u001b[0m 4ms/step - kl_loss: 35.4016 - loss: 76.7363 - reconstruction_loss: 40.6267 - regularization_loss: 0.7080\n",
      "Epoch 10/50\n",
      "\u001b[1m1563/1563\u001b[0m \u001b[32m━━━━━━━━━━━━━━━━━━━━\u001b[0m\u001b[37m\u001b[0m \u001b[1m7s\u001b[0m 4ms/step - kl_loss: 34.9214 - loss: 74.7222 - reconstruction_loss: 39.1024 - regularization_loss: 0.6984\n",
      "Epoch 11/50\n",
      "\u001b[1m1563/1563\u001b[0m \u001b[32m━━━━━━━━━━━━━━━━━━━━\u001b[0m\u001b[37m\u001b[0m \u001b[1m6s\u001b[0m 4ms/step - kl_loss: 34.6186 - loss: 73.1302 - reconstruction_loss: 37.8192 - regularization_loss: 0.6924\n",
      "Epoch 12/50\n",
      "\u001b[1m1563/1563\u001b[0m \u001b[32m━━━━━━━━━━━━━━━━━━━━\u001b[0m\u001b[37m\u001b[0m \u001b[1m6s\u001b[0m 4ms/step - kl_loss: 34.4643 - loss: 72.0136 - reconstruction_loss: 36.8601 - regularization_loss: 0.6893\n",
      "Epoch 13/50\n",
      "\u001b[1m1563/1563\u001b[0m \u001b[32m━━━━━━━━━━━━━━━━━━━━\u001b[0m\u001b[37m\u001b[0m \u001b[1m10s\u001b[0m 4ms/step - kl_loss: 34.3148 - loss: 71.0914 - reconstruction_loss: 36.0903 - regularization_loss: 0.6863\n",
      "Epoch 14/50\n",
      "\u001b[1m1563/1563\u001b[0m \u001b[32m━━━━━━━━━━━━━━━━━━━━\u001b[0m\u001b[37m\u001b[0m \u001b[1m7s\u001b[0m 4ms/step - kl_loss: 34.1545 - loss: 70.1294 - reconstruction_loss: 35.2918 - regularization_loss: 0.6831\n",
      "Epoch 15/50\n",
      "\u001b[1m1563/1563\u001b[0m \u001b[32m━━━━━━━━━━━━━━━━━━━━\u001b[0m\u001b[37m\u001b[0m \u001b[1m10s\u001b[0m 4ms/step - kl_loss: 34.0684 - loss: 69.5090 - reconstruction_loss: 34.7592 - regularization_loss: 0.6814\n",
      "Epoch 16/50\n",
      "\u001b[1m1563/1563\u001b[0m \u001b[32m━━━━━━━━━━━━━━━━━━━━\u001b[0m\u001b[37m\u001b[0m \u001b[1m9s\u001b[0m 4ms/step - kl_loss: 33.8969 - loss: 68.7141 - reconstruction_loss: 34.1392 - regularization_loss: 0.6779\n",
      "Epoch 17/50\n",
      "\u001b[1m1563/1563\u001b[0m \u001b[32m━━━━━━━━━━━━━━━━━━━━\u001b[0m\u001b[37m\u001b[0m \u001b[1m10s\u001b[0m 4ms/step - kl_loss: 33.7153 - loss: 67.9964 - reconstruction_loss: 33.6068 - regularization_loss: 0.6743\n",
      "Epoch 18/50\n",
      "\u001b[1m1563/1563\u001b[0m \u001b[32m━━━━━━━━━━━━━━━━━━━━\u001b[0m\u001b[37m\u001b[0m \u001b[1m7s\u001b[0m 4ms/step - kl_loss: 33.6662 - loss: 67.7138 - reconstruction_loss: 33.3743 - regularization_loss: 0.6733\n",
      "Epoch 19/50\n",
      "\u001b[1m1563/1563\u001b[0m \u001b[32m━━━━━━━━━━━━━━━━━━━━\u001b[0m\u001b[37m\u001b[0m \u001b[1m6s\u001b[0m 4ms/step - kl_loss: 33.6199 - loss: 67.0367 - reconstruction_loss: 32.7444 - regularization_loss: 0.6724\n",
      "Epoch 20/50\n",
      "\u001b[1m1563/1563\u001b[0m \u001b[32m━━━━━━━━━━━━━━━━━━━━\u001b[0m\u001b[37m\u001b[0m \u001b[1m7s\u001b[0m 4ms/step - kl_loss: 33.5946 - loss: 66.7340 - reconstruction_loss: 32.4676 - regularization_loss: 0.6719\n",
      "Epoch 21/50\n",
      "\u001b[1m1563/1563\u001b[0m \u001b[32m━━━━━━━━━━━━━━━━━━━━\u001b[0m\u001b[37m\u001b[0m \u001b[1m9s\u001b[0m 4ms/step - kl_loss: 33.4811 - loss: 66.2194 - reconstruction_loss: 32.0687 - regularization_loss: 0.6696\n",
      "Epoch 22/50\n",
      "\u001b[1m1563/1563\u001b[0m \u001b[32m━━━━━━━━━━━━━━━━━━━━\u001b[0m\u001b[37m\u001b[0m \u001b[1m7s\u001b[0m 4ms/step - kl_loss: 33.4868 - loss: 65.9515 - reconstruction_loss: 31.7949 - regularization_loss: 0.6697\n",
      "Epoch 23/50\n",
      "\u001b[1m1563/1563\u001b[0m \u001b[32m━━━━━━━━━━━━━━━━━━━━\u001b[0m\u001b[37m\u001b[0m \u001b[1m10s\u001b[0m 4ms/step - kl_loss: 33.3318 - loss: 65.4904 - reconstruction_loss: 31.4919 - regularization_loss: 0.6666\n",
      "Epoch 24/50\n",
      "\u001b[1m1563/1563\u001b[0m \u001b[32m━━━━━━━━━━━━━━━━━━━━\u001b[0m\u001b[37m\u001b[0m \u001b[1m9s\u001b[0m 4ms/step - kl_loss: 33.2763 - loss: 65.0269 - reconstruction_loss: 31.0851 - regularization_loss: 0.6655\n",
      "Epoch 25/50\n",
      "\u001b[1m1563/1563\u001b[0m \u001b[32m━━━━━━━━━━━━━━━━━━━━\u001b[0m\u001b[37m\u001b[0m \u001b[1m7s\u001b[0m 4ms/step - kl_loss: 33.2939 - loss: 64.9146 - reconstruction_loss: 30.9548 - regularization_loss: 0.6659\n",
      "Epoch 26/50\n",
      "\u001b[1m1563/1563\u001b[0m \u001b[32m━━━━━━━━━━━━━━━━━━━━\u001b[0m\u001b[37m\u001b[0m \u001b[1m6s\u001b[0m 4ms/step - kl_loss: 33.1855 - loss: 64.5193 - reconstruction_loss: 30.6701 - regularization_loss: 0.6637\n",
      "Epoch 27/50\n",
      "\u001b[1m1563/1563\u001b[0m \u001b[32m━━━━━━━━━━━━━━━━━━━━\u001b[0m\u001b[37m\u001b[0m \u001b[1m7s\u001b[0m 4ms/step - kl_loss: 33.1210 - loss: 64.1599 - reconstruction_loss: 30.3765 - regularization_loss: 0.6624\n",
      "Epoch 28/50\n",
      "\u001b[1m1563/1563\u001b[0m \u001b[32m━━━━━━━━━━━━━━━━━━━━\u001b[0m\u001b[37m\u001b[0m \u001b[1m11s\u001b[0m 5ms/step - kl_loss: 33.0016 - loss: 63.7978 - reconstruction_loss: 30.1361 - regularization_loss: 0.6600\n",
      "Epoch 29/50\n",
      "\u001b[1m1563/1563\u001b[0m \u001b[32m━━━━━━━━━━━━━━━━━━━━\u001b[0m\u001b[37m\u001b[0m \u001b[1m9s\u001b[0m 4ms/step - kl_loss: 32.9937 - loss: 63.5854 - reconstruction_loss: 29.9318 - regularization_loss: 0.6599\n",
      "Epoch 30/50\n",
      "\u001b[1m1563/1563\u001b[0m \u001b[32m━━━━━━━━━━━━━━━━━━━━\u001b[0m\u001b[37m\u001b[0m \u001b[1m7s\u001b[0m 4ms/step - kl_loss: 32.9464 - loss: 63.3443 - reconstruction_loss: 29.7390 - regularization_loss: 0.6589\n",
      "Epoch 31/50\n",
      "\u001b[1m1563/1563\u001b[0m \u001b[32m━━━━━━━━━━━━━━━━━━━━\u001b[0m\u001b[37m\u001b[0m \u001b[1m6s\u001b[0m 4ms/step - kl_loss: 32.9645 - loss: 63.1978 - reconstruction_loss: 29.5740 - regularization_loss: 0.6593\n",
      "Epoch 32/50\n",
      "\u001b[1m1563/1563\u001b[0m \u001b[32m━━━━━━━━━━━━━━━━━━━━\u001b[0m\u001b[37m\u001b[0m \u001b[1m9s\u001b[0m 5ms/step - kl_loss: 32.8593 - loss: 62.9582 - reconstruction_loss: 29.4417 - regularization_loss: 0.6572\n",
      "Epoch 33/50\n",
      "\u001b[1m1563/1563\u001b[0m \u001b[32m━━━━━━━━━━━━━━━━━━━━\u001b[0m\u001b[37m\u001b[0m \u001b[1m6s\u001b[0m 4ms/step - kl_loss: 32.8523 - loss: 62.8226 - reconstruction_loss: 29.3132 - regularization_loss: 0.6570\n",
      "Epoch 34/50\n",
      "\u001b[1m1563/1563\u001b[0m \u001b[32m━━━━━━━━━━━━━━━━━━━━\u001b[0m\u001b[37m\u001b[0m \u001b[1m7s\u001b[0m 5ms/step - kl_loss: 32.8019 - loss: 62.5932 - reconstruction_loss: 29.1353 - regularization_loss: 0.6560\n",
      "Epoch 35/50\n",
      "\u001b[1m1563/1563\u001b[0m \u001b[32m━━━━━━━━━━━━━━━━━━━━\u001b[0m\u001b[37m\u001b[0m \u001b[1m6s\u001b[0m 4ms/step - kl_loss: 32.7428 - loss: 62.0756 - reconstruction_loss: 28.6780 - regularization_loss: 0.6549\n",
      "Epoch 36/50\n",
      "\u001b[1m1563/1563\u001b[0m \u001b[32m━━━━━━━━━━━━━━━━━━━━\u001b[0m\u001b[37m\u001b[0m \u001b[1m10s\u001b[0m 4ms/step - kl_loss: 32.7335 - loss: 62.1955 - reconstruction_loss: 28.8074 - regularization_loss: 0.6547\n",
      "Epoch 37/50\n",
      "\u001b[1m1563/1563\u001b[0m \u001b[32m━━━━━━━━━━━━━━━━━━━━\u001b[0m\u001b[37m\u001b[0m \u001b[1m11s\u001b[0m 5ms/step - kl_loss: 32.7128 - loss: 62.0173 - reconstruction_loss: 28.6502 - regularization_loss: 0.6543\n",
      "Epoch 38/50\n",
      "\u001b[1m1563/1563\u001b[0m \u001b[32m━━━━━━━━━━━━━━━━━━━━\u001b[0m\u001b[37m\u001b[0m \u001b[1m7s\u001b[0m 4ms/step - kl_loss: 32.6126 - loss: 61.8221 - reconstruction_loss: 28.5573 - regularization_loss: 0.6523\n",
      "Epoch 39/50\n",
      "\u001b[1m1563/1563\u001b[0m \u001b[32m━━━━━━━━━━━━━━━━━━━━\u001b[0m\u001b[37m\u001b[0m \u001b[1m7s\u001b[0m 4ms/step - kl_loss: 32.5703 - loss: 61.5245 - reconstruction_loss: 28.3029 - regularization_loss: 0.6514\n",
      "Epoch 40/50\n",
      "\u001b[1m1563/1563\u001b[0m \u001b[32m━━━━━━━━━━━━━━━━━━━━\u001b[0m\u001b[37m\u001b[0m \u001b[1m7s\u001b[0m 4ms/step - kl_loss: 32.5983 - loss: 61.5371 - reconstruction_loss: 28.2869 - regularization_loss: 0.6520\n",
      "Epoch 41/50\n",
      "\u001b[1m1563/1563\u001b[0m \u001b[32m━━━━━━━━━━━━━━━━━━━━\u001b[0m\u001b[37m\u001b[0m \u001b[1m6s\u001b[0m 4ms/step - kl_loss: 32.5405 - loss: 61.3637 - reconstruction_loss: 28.1725 - regularization_loss: 0.6508\n",
      "Epoch 42/50\n",
      "\u001b[1m1563/1563\u001b[0m \u001b[32m━━━━━━━━━━━━━━━━━━━━\u001b[0m\u001b[37m\u001b[0m \u001b[1m6s\u001b[0m 4ms/step - kl_loss: 32.4972 - loss: 61.2079 - reconstruction_loss: 28.0607 - regularization_loss: 0.6499\n",
      "Epoch 43/50\n",
      "\u001b[1m1563/1563\u001b[0m \u001b[32m━━━━━━━━━━━━━━━━━━━━\u001b[0m\u001b[37m\u001b[0m \u001b[1m7s\u001b[0m 4ms/step - kl_loss: 32.4940 - loss: 61.0660 - reconstruction_loss: 27.9221 - regularization_loss: 0.6499\n",
      "Epoch 44/50\n",
      "\u001b[1m1563/1563\u001b[0m \u001b[32m━━━━━━━━━━━━━━━━━━━━\u001b[0m\u001b[37m\u001b[0m \u001b[1m6s\u001b[0m 4ms/step - kl_loss: 32.4499 - loss: 60.8738 - reconstruction_loss: 27.7748 - regularization_loss: 0.6490\n",
      "Epoch 45/50\n",
      "\u001b[1m1563/1563\u001b[0m \u001b[32m━━━━━━━━━━━━━━━━━━━━\u001b[0m\u001b[37m\u001b[0m \u001b[1m10s\u001b[0m 4ms/step - kl_loss: 32.4219 - loss: 60.6394 - reconstruction_loss: 27.5691 - regularization_loss: 0.6484\n",
      "Epoch 46/50\n",
      "\u001b[1m1563/1563\u001b[0m \u001b[32m━━━━━━━━━━━━━━━━━━━━\u001b[0m\u001b[37m\u001b[0m \u001b[1m11s\u001b[0m 4ms/step - kl_loss: 32.5059 - loss: 60.7857 - reconstruction_loss: 27.6297 - regularization_loss: 0.6501\n",
      "Epoch 47/50\n",
      "\u001b[1m1563/1563\u001b[0m \u001b[32m━━━━━━━━━━━━━━━━━━━━\u001b[0m\u001b[37m\u001b[0m \u001b[1m10s\u001b[0m 4ms/step - kl_loss: 32.3762 - loss: 60.4428 - reconstruction_loss: 27.4191 - regularization_loss: 0.6475\n",
      "Epoch 48/50\n",
      "\u001b[1m1563/1563\u001b[0m \u001b[32m━━━━━━━━━━━━━━━━━━━━\u001b[0m\u001b[37m\u001b[0m \u001b[1m8s\u001b[0m 5ms/step - kl_loss: 32.3176 - loss: 60.4830 - reconstruction_loss: 27.5190 - regularization_loss: 0.6464\n",
      "Epoch 49/50\n",
      "\u001b[1m1563/1563\u001b[0m \u001b[32m━━━━━━━━━━━━━━━━━━━━\u001b[0m\u001b[37m\u001b[0m \u001b[1m9s\u001b[0m 4ms/step - kl_loss: 32.3220 - loss: 60.3099 - reconstruction_loss: 27.3414 - regularization_loss: 0.6464\n",
      "Epoch 50/50\n",
      "\u001b[1m1563/1563\u001b[0m \u001b[32m━━━━━━━━━━━━━━━━━━━━\u001b[0m\u001b[37m\u001b[0m \u001b[1m7s\u001b[0m 5ms/step - kl_loss: 32.2507 - loss: 60.0019 - reconstruction_loss: 27.1061 - regularization_loss: 0.6450\n"
     ]
    },
    {
     "data": {
      "text/plain": [
       "<keras.src.callbacks.history.History at 0x7e4cd52ba710>"
      ]
     },
     "execution_count": 21,
     "metadata": {},
     "output_type": "execute_result"
    }
   ],
   "source": [
    "# train the VAE model\n",
    "resized_train_data = resized_train_data.astype(\"float32\")\n",
    "\n",
    "vae.fit(resized_train_data, epochs=50, batch_size=32)"
   ]
  },
  {
   "cell_type": "markdown",
   "id": "547d529e-5b9c-472f-a751-7c15cab81983",
   "metadata": {
    "id": "547d529e-5b9c-472f-a751-7c15cab81983"
   },
   "source": [
    "### Saving model"
   ]
  },
  {
   "cell_type": "code",
   "execution_count": 22,
   "id": "21349926-73ae-414f-900a-f7768f2138bd",
   "metadata": {
    "executionInfo": {
     "elapsed": 16,
     "status": "ok",
     "timestamp": 1723825640763,
     "user": {
      "displayName": "Adolfo Scheidt",
      "userId": "09124212706277105639"
     },
     "user_tz": 180
    },
    "id": "21349926-73ae-414f-900a-f7768f2138bd"
   },
   "outputs": [],
   "source": [
    "# save the VAE model weights\n",
    "vae.save_weights(\"models/vae_dim100_conv_dense.weights.h5\")"
   ]
  },
  {
   "cell_type": "markdown",
   "id": "6823532e-a823-4502-b26d-184626f1b303",
   "metadata": {
    "id": "6823532e-a823-4502-b26d-184626f1b303"
   },
   "source": [
    "### Predicting new images"
   ]
  },
  {
   "cell_type": "code",
   "execution_count": 23,
   "id": "2cc2fdba-2bd4-48b4-b15f-83f1044cb548",
   "metadata": {
    "colab": {
     "base_uri": "https://localhost:8080/"
    },
    "executionInfo": {
     "elapsed": 481,
     "status": "ok",
     "timestamp": 1723825641242,
     "user": {
      "displayName": "Adolfo Scheidt",
      "userId": "09124212706277105639"
     },
     "user_tz": 180
    },
    "id": "2cc2fdba-2bd4-48b4-b15f-83f1044cb548",
    "outputId": "a3ccec2f-3ba3-4ecb-c2d4-1fa8e7883562"
   },
   "outputs": [
    {
     "name": "stdout",
     "output_type": "stream",
     "text": [
      "\u001b[1m1/1\u001b[0m \u001b[32m━━━━━━━━━━━━━━━━━━━━\u001b[0m\u001b[37m\u001b[0m \u001b[1m0s\u001b[0m 389ms/step\n"
     ]
    }
   ],
   "source": [
    "# generate new images from random latent vectors\n",
    "num_images = 30  # number of images to generate\n",
    "random_latent_vectors = tf.random.normal(shape=(num_images, latent_dim))\n",
    "generated_images = vae.decoder.predict(random_latent_vectors)"
   ]
  },
  {
   "cell_type": "code",
   "execution_count": 24,
   "id": "5327e804-67e9-44bf-afa8-b14a3e5f8eb0",
   "metadata": {
    "colab": {
     "base_uri": "https://localhost:8080/",
     "height": 220
    },
    "executionInfo": {
     "elapsed": 505,
     "status": "ok",
     "timestamp": 1723825641745,
     "user": {
      "displayName": "Adolfo Scheidt",
      "userId": "09124212706277105639"
     },
     "user_tz": 180
    },
    "id": "5327e804-67e9-44bf-afa8-b14a3e5f8eb0",
    "outputId": "fc384a9c-4f4f-4ca2-e238-4892616db7e1"
   },
   "outputs": [
    {
     "data": {
      "image/png": "[encoded data removed]",
      "text/plain": [
       "<Figure size 2000x2000 with 10 Axes>"
      ]
     },
     "metadata": {},
     "output_type": "display_data"
    }
   ],
   "source": [
    "plot_images(generated_images[:10])"
   ]
  },
  {
   "cell_type": "markdown",
   "id": "9ee8af64-2b21-438b-a8b3-84104b085c9f",
   "metadata": {
    "id": "9ee8af64-2b21-438b-a8b3-84104b085c9f"
   },
   "source": [
    "### Interpolating Different Latent Spaces"
   ]
  },
  {
   "cell_type": "code",
   "execution_count": 25,
   "id": "f4b7fd50-6032-4df4-bbc0-fe9cfc34a459",
   "metadata": {
    "colab": {
     "base_uri": "https://localhost:8080/",
     "height": 1000
    },
    "executionInfo": {
     "elapsed": 3118,
     "status": "ok",
     "timestamp": 1723825644858,
     "user": {
      "displayName": "Adolfo Scheidt",
      "userId": "09124212706277105639"
     },
     "user_tz": 180
    },
    "id": "f4b7fd50-6032-4df4-bbc0-fe9cfc34a459",
    "outputId": "7411c38d-4c4b-4101-a2bd-e3e5b368a9db"
   },
   "outputs": [
    {
     "name": "stdout",
     "output_type": "stream",
     "text": [
      "\u001b[1m1/1\u001b[0m \u001b[32m━━━━━━━━━━━━━━━━━━━━\u001b[0m\u001b[37m\u001b[0m \u001b[1m0s\u001b[0m 387ms/step\n",
      "\u001b[1m1/1\u001b[0m \u001b[32m━━━━━━━━━━━━━━━━━━━━\u001b[0m\u001b[37m\u001b[0m \u001b[1m0s\u001b[0m 33ms/step\n",
      "\u001b[1m1/1\u001b[0m \u001b[32m━━━━━━━━━━━━━━━━━━━━\u001b[0m\u001b[37m\u001b[0m \u001b[1m0s\u001b[0m 23ms/step\n",
      "\u001b[1m1/1\u001b[0m \u001b[32m━━━━━━━━━━━━━━━━━━━━\u001b[0m\u001b[37m\u001b[0m \u001b[1m0s\u001b[0m 20ms/step\n",
      "\u001b[1m1/1\u001b[0m \u001b[32m━━━━━━━━━━━━━━━━━━━━\u001b[0m\u001b[37m\u001b[0m \u001b[1m0s\u001b[0m 19ms/step\n",
      "\u001b[1m1/1\u001b[0m \u001b[32m━━━━━━━━━━━━━━━━━━━━\u001b[0m\u001b[37m\u001b[0m \u001b[1m0s\u001b[0m 24ms/step\n",
      "\u001b[1m1/1\u001b[0m \u001b[32m━━━━━━━━━━━━━━━━━━━━\u001b[0m\u001b[37m\u001b[0m \u001b[1m0s\u001b[0m 21ms/step\n",
      "\u001b[1m1/1\u001b[0m \u001b[32m━━━━━━━━━━━━━━━━━━━━\u001b[0m\u001b[37m\u001b[0m \u001b[1m0s\u001b[0m 22ms/step\n",
      "\u001b[1m1/1\u001b[0m \u001b[32m━━━━━━━━━━━━━━━━━━━━\u001b[0m\u001b[37m\u001b[0m \u001b[1m0s\u001b[0m 18ms/step\n",
      "\u001b[1m1/1\u001b[0m \u001b[32m━━━━━━━━━━━━━━━━━━━━\u001b[0m\u001b[37m\u001b[0m \u001b[1m0s\u001b[0m 20ms/step\n",
      "\u001b[1m1/1\u001b[0m \u001b[32m━━━━━━━━━━━━━━━━━━━━\u001b[0m\u001b[37m\u001b[0m \u001b[1m0s\u001b[0m 19ms/step\n",
      "\u001b[1m1/1\u001b[0m \u001b[32m━━━━━━━━━━━━━━━━━━━━\u001b[0m\u001b[37m\u001b[0m \u001b[1m0s\u001b[0m 18ms/step\n",
      "\u001b[1m1/1\u001b[0m \u001b[32m━━━━━━━━━━━━━━━━━━━━\u001b[0m\u001b[37m\u001b[0m \u001b[1m0s\u001b[0m 21ms/step\n",
      "\u001b[1m1/1\u001b[0m \u001b[32m━━━━━━━━━━━━━━━━━━━━\u001b[0m\u001b[37m\u001b[0m \u001b[1m0s\u001b[0m 18ms/step\n",
      "\u001b[1m1/1\u001b[0m \u001b[32m━━━━━━━━━━━━━━━━━━━━\u001b[0m\u001b[37m\u001b[0m \u001b[1m0s\u001b[0m 21ms/step\n",
      "\u001b[1m1/1\u001b[0m \u001b[32m━━━━━━━━━━━━━━━━━━━━\u001b[0m\u001b[37m\u001b[0m \u001b[1m0s\u001b[0m 21ms/step\n",
      "\u001b[1m1/1\u001b[0m \u001b[32m━━━━━━━━━━━━━━━━━━━━\u001b[0m\u001b[37m\u001b[0m \u001b[1m0s\u001b[0m 26ms/step\n",
      "\u001b[1m1/1\u001b[0m \u001b[32m━━━━━━━━━━━━━━━━━━━━\u001b[0m\u001b[37m\u001b[0m \u001b[1m0s\u001b[0m 23ms/step\n",
      "\u001b[1m1/1\u001b[0m \u001b[32m━━━━━━━━━━━━━━━━━━━━\u001b[0m\u001b[37m\u001b[0m \u001b[1m0s\u001b[0m 18ms/step\n",
      "\u001b[1m1/1\u001b[0m \u001b[32m━━━━━━━━━━━━━━━━━━━━\u001b[0m\u001b[37m\u001b[0m \u001b[1m0s\u001b[0m 19ms/step\n",
      "\u001b[1m1/1\u001b[0m \u001b[32m━━━━━━━━━━━━━━━━━━━━\u001b[0m\u001b[37m\u001b[0m \u001b[1m0s\u001b[0m 19ms/step\n",
      "\u001b[1m1/1\u001b[0m \u001b[32m━━━━━━━━━━━━━━━━━━━━\u001b[0m\u001b[37m\u001b[0m \u001b[1m0s\u001b[0m 18ms/step\n",
      "\u001b[1m1/1\u001b[0m \u001b[32m━━━━━━━━━━━━━━━━━━━━\u001b[0m\u001b[37m\u001b[0m \u001b[1m0s\u001b[0m 18ms/step\n",
      "\u001b[1m1/1\u001b[0m \u001b[32m━━━━━━━━━━━━━━━━━━━━\u001b[0m\u001b[37m\u001b[0m \u001b[1m0s\u001b[0m 19ms/step\n",
      "\u001b[1m1/1\u001b[0m \u001b[32m━━━━━━━━━━━━━━━━━━━━\u001b[0m\u001b[37m\u001b[0m \u001b[1m0s\u001b[0m 20ms/step\n"
     ]
    },
    {
     "data": {
      "image/png": "[encoded data removed]",
      "text/plain": [
       "<Figure size 1500x1500 with 1 Axes>"
      ]
     },
     "metadata": {},
     "output_type": "display_data"
    }
   ],
   "source": [
    "def plot_latent_space(vae, n=5, figsize=15):\n",
    "    # display a n*n 2D manifold of digits\n",
    "    digit_size = 32\n",
    "    scale = 1.0\n",
    "    figure = np.zeros((digit_size * n, digit_size * n))\n",
    "    # linearly spaced coordinates corresponding to the 2D plot\n",
    "    # of digit classes in the latent space\n",
    "    grid_x = np.linspace(-scale, scale, n)\n",
    "    grid_y = np.linspace(-scale, scale, n)[::-1]\n",
    "    initial_latent_vector = tf.random.normal(shape=(1, latent_dim))\n",
    "\n",
    "    for i, yi in enumerate(grid_y):\n",
    "        for j, xi in enumerate(grid_x):\n",
    "            z_sample = initial_latent_vector + 0.25 * np.mean(initial_latent_vector)\n",
    "            x_decoded = vae.decoder.predict(z_sample)\n",
    "            digit = x_decoded[0].reshape(digit_size, digit_size)\n",
    "            initial_latent_vector = z_sample\n",
    "            figure[\n",
    "                i * digit_size : (i + 1) * digit_size,\n",
    "                j * digit_size : (j + 1) * digit_size,\n",
    "            ] = digit\n",
    "\n",
    "    plt.figure(figsize=(figsize, figsize))\n",
    "    start_range = digit_size // 2\n",
    "    end_range = n * digit_size + start_range\n",
    "    pixel_range = np.arange(start_range, end_range, digit_size)\n",
    "    sample_range_x = np.round(grid_x, 1)\n",
    "    sample_range_y = np.round(grid_y, 1)\n",
    "    plt.xticks(pixel_range, sample_range_x)\n",
    "    plt.yticks(pixel_range, sample_range_y)\n",
    "    plt.xlabel(\"z[0]\")\n",
    "    plt.ylabel(\"z[1]\")\n",
    "    plt.imshow(figure, cmap=\"cividis\")\n",
    "    plt.show()\n",
    "\n",
    "\n",
    "plot_latent_space(vae)"
   ]
  },
  {
   "cell_type": "markdown",
   "id": "075c471a-987a-4d05-a7d6-6e11ed729f66",
   "metadata": {
    "id": "075c471a-987a-4d05-a7d6-6e11ed729f66"
   },
   "source": [
    "From the plot we can see that generated images transit smoothly for small changes in the latent space. This implies that latent space is regularized, as we wanted."
   ]
  },
  {
   "cell_type": "markdown",
   "id": "0f716cb8-544e-4495-b7e8-b9c421750f29",
   "metadata": {
    "id": "0f716cb8-544e-4495-b7e8-b9c421750f29"
   },
   "source": [
    "## Fully Convolutional VAE (FCVAE)"
   ]
  },
  {
   "cell_type": "markdown",
   "id": "973b2bb8-2d58-46e0-a999-cc3d89fd665c",
   "metadata": {
    "id": "973b2bb8-2d58-46e0-a999-cc3d89fd665c"
   },
   "source": [
    "A FCVAE is composed entirely of convolutional layers, which ensures that the spatial properties of the input data are preserved throughout the network. This architecture excels in tasks where understanding the spatial relationships within an image is crucial, as it can effectively label pixels in relation to their spatial context.\n",
    "\n",
    "However, the focus on local receptive fields in fully convolutional networks can limit their ability to capture broader, global patterns within the data. This constraint can impact the network's capacity to generate coherent and diverse images, as it may struggle to integrate information across the entire image. Consequently, while FCVAEs maintain strong spatial consistency, they may produce outputs that lack the variety and global coherence seen in models that also incorporate dense layers."
   ]
  },
  {
   "cell_type": "markdown",
   "id": "8cdcdd9b-8ebd-43ae-a31d-96bcf71457a9",
   "metadata": {
    "id": "8cdcdd9b-8ebd-43ae-a31d-96bcf71457a9"
   },
   "source": [
    "### Encoder"
   ]
  },
  {
   "cell_type": "code",
   "execution_count": 26,
   "id": "6e3e7750-d7c9-4edb-8de4-f282d3312c5d",
   "metadata": {
    "executionInfo": {
     "elapsed": 18,
     "status": "ok",
     "timestamp": 1723825644859,
     "user": {
      "displayName": "Adolfo Scheidt",
      "userId": "09124212706277105639"
     },
     "user_tz": 180
    },
    "id": "6e3e7750-d7c9-4edb-8de4-f282d3312c5d"
   },
   "outputs": [],
   "source": [
    "# define the encoder network\n",
    "latent_dim = 10\n",
    "\n",
    "encoder_inputs = tf.keras.Input(shape=(32, 32, 1))\n",
    "x = layers.Conv2D(32, 3, strides=2, activation=\"relu\", padding=\"same\")(encoder_inputs)\n",
    "x = layers.Conv2D(64, 3, strides=2, activation=\"relu\", padding=\"same\")(x)\n",
    "x = layers.Conv2D(64, 3, strides=1, activation=\"relu\", padding=\"same\")(x)\n",
    "x = layers.Conv2D(latent_dim, 1, activation=\"relu\")(x)\n",
    "z_mean = layers.GlobalAveragePooling2D(name=\"z_mean\")(x) # Global average pooling is used to reduce the spatial dimensions of the output.\n",
    "z_log_var = layers.GlobalAveragePooling2D(name=\"z_log_var\")(x)\n",
    "z = Sampling()([z_mean, z_log_var])"
   ]
  },
  {
   "cell_type": "code",
   "execution_count": 27,
   "id": "220bdd1a-661f-4c34-a8fb-d7878e56f517",
   "metadata": {
    "colab": {
     "base_uri": "https://localhost:8080/",
     "height": 449
    },
    "executionInfo": {
     "elapsed": 16,
     "status": "ok",
     "timestamp": 1723825644859,
     "user": {
      "displayName": "Adolfo Scheidt",
      "userId": "09124212706277105639"
     },
     "user_tz": 180
    },
    "id": "220bdd1a-661f-4c34-a8fb-d7878e56f517",
    "outputId": "7a074f5a-afcf-4afa-bfd5-ee4410ceb8b1"
   },
   "outputs": [
    {
     "data": {
      "text/html": [
       "<pre style=\"white-space:pre;overflow-x:auto;line-height:normal;font-family:Menlo,'DejaVu Sans Mono',consolas,'Courier New',monospace\"><span style=\"font-weight: bold\">Model: \"encoder\"</span>\n",
       "</pre>\n"
      ],
      "text/plain": [
       "\u001b[1mModel: \"encoder\"\u001b[0m\n"
      ]
     },
     "metadata": {},
     "output_type": "display_data"
    },
    {
     "data": {
      "text/html": [
       "<pre style=\"white-space:pre;overflow-x:auto;line-height:normal;font-family:Menlo,'DejaVu Sans Mono',consolas,'Courier New',monospace\">┏━━━━━━━━━━━━━━━━━━━━━━━━━━━┳━━━━━━━━━━━━━━━━━━━━━━━━┳━━━━━━━━━━━━━━━━┳━━━━━━━━━━━━━━━━━━━━━━━━┓\n",
       "┃<span style=\"font-weight: bold\"> Layer (type)              </span>┃<span style=\"font-weight: bold\"> Output Shape           </span>┃<span style=\"font-weight: bold\">        Param # </span>┃<span style=\"font-weight: bold\"> Connected to           </span>┃\n",
       "┡━━━━━━━━━━━━━━━━━━━━━━━━━━━╇━━━━━━━━━━━━━━━━━━━━━━━━╇━━━━━━━━━━━━━━━━╇━━━━━━━━━━━━━━━━━━━━━━━━┩\n",
       "│ input_layer_2             │ (<span style=\"color: #00d7ff; text-decoration-color: #00d7ff\">None</span>, <span style=\"color: #00af00; text-decoration-color: #00af00\">32</span>, <span style=\"color: #00af00; text-decoration-color: #00af00\">32</span>, <span style=\"color: #00af00; text-decoration-color: #00af00\">1</span>)      │              <span style=\"color: #00af00; text-decoration-color: #00af00\">0</span> │ -                      │\n",
       "│ (<span style=\"color: #0087ff; text-decoration-color: #0087ff\">InputLayer</span>)              │                        │                │                        │\n",
       "├───────────────────────────┼────────────────────────┼────────────────┼────────────────────────┤\n",
       "│ conv2d_2 (<span style=\"color: #0087ff; text-decoration-color: #0087ff\">Conv2D</span>)         │ (<span style=\"color: #00d7ff; text-decoration-color: #00d7ff\">None</span>, <span style=\"color: #00af00; text-decoration-color: #00af00\">16</span>, <span style=\"color: #00af00; text-decoration-color: #00af00\">16</span>, <span style=\"color: #00af00; text-decoration-color: #00af00\">32</span>)     │            <span style=\"color: #00af00; text-decoration-color: #00af00\">320</span> │ input_layer_2[<span style=\"color: #00af00; text-decoration-color: #00af00\">0</span>][<span style=\"color: #00af00; text-decoration-color: #00af00\">0</span>]    │\n",
       "├───────────────────────────┼────────────────────────┼────────────────┼────────────────────────┤\n",
       "│ conv2d_3 (<span style=\"color: #0087ff; text-decoration-color: #0087ff\">Conv2D</span>)         │ (<span style=\"color: #00d7ff; text-decoration-color: #00d7ff\">None</span>, <span style=\"color: #00af00; text-decoration-color: #00af00\">8</span>, <span style=\"color: #00af00; text-decoration-color: #00af00\">8</span>, <span style=\"color: #00af00; text-decoration-color: #00af00\">64</span>)       │         <span style=\"color: #00af00; text-decoration-color: #00af00\">18,496</span> │ conv2d_2[<span style=\"color: #00af00; text-decoration-color: #00af00\">0</span>][<span style=\"color: #00af00; text-decoration-color: #00af00\">0</span>]         │\n",
       "├───────────────────────────┼────────────────────────┼────────────────┼────────────────────────┤\n",
       "│ conv2d_4 (<span style=\"color: #0087ff; text-decoration-color: #0087ff\">Conv2D</span>)         │ (<span style=\"color: #00d7ff; text-decoration-color: #00d7ff\">None</span>, <span style=\"color: #00af00; text-decoration-color: #00af00\">8</span>, <span style=\"color: #00af00; text-decoration-color: #00af00\">8</span>, <span style=\"color: #00af00; text-decoration-color: #00af00\">64</span>)       │         <span style=\"color: #00af00; text-decoration-color: #00af00\">36,928</span> │ conv2d_3[<span style=\"color: #00af00; text-decoration-color: #00af00\">0</span>][<span style=\"color: #00af00; text-decoration-color: #00af00\">0</span>]         │\n",
       "├───────────────────────────┼────────────────────────┼────────────────┼────────────────────────┤\n",
       "│ conv2d_5 (<span style=\"color: #0087ff; text-decoration-color: #0087ff\">Conv2D</span>)         │ (<span style=\"color: #00d7ff; text-decoration-color: #00d7ff\">None</span>, <span style=\"color: #00af00; text-decoration-color: #00af00\">8</span>, <span style=\"color: #00af00; text-decoration-color: #00af00\">8</span>, <span style=\"color: #00af00; text-decoration-color: #00af00\">10</span>)       │            <span style=\"color: #00af00; text-decoration-color: #00af00\">650</span> │ conv2d_4[<span style=\"color: #00af00; text-decoration-color: #00af00\">0</span>][<span style=\"color: #00af00; text-decoration-color: #00af00\">0</span>]         │\n",
       "├───────────────────────────┼────────────────────────┼────────────────┼────────────────────────┤\n",
       "│ z_mean                    │ (<span style=\"color: #00d7ff; text-decoration-color: #00d7ff\">None</span>, <span style=\"color: #00af00; text-decoration-color: #00af00\">10</span>)             │              <span style=\"color: #00af00; text-decoration-color: #00af00\">0</span> │ conv2d_5[<span style=\"color: #00af00; text-decoration-color: #00af00\">0</span>][<span style=\"color: #00af00; text-decoration-color: #00af00\">0</span>]         │\n",
       "│ (<span style=\"color: #0087ff; text-decoration-color: #0087ff\">GlobalAveragePooling2D</span>)  │                        │                │                        │\n",
       "├───────────────────────────┼────────────────────────┼────────────────┼────────────────────────┤\n",
       "│ z_log_var                 │ (<span style=\"color: #00d7ff; text-decoration-color: #00d7ff\">None</span>, <span style=\"color: #00af00; text-decoration-color: #00af00\">10</span>)             │              <span style=\"color: #00af00; text-decoration-color: #00af00\">0</span> │ conv2d_5[<span style=\"color: #00af00; text-decoration-color: #00af00\">0</span>][<span style=\"color: #00af00; text-decoration-color: #00af00\">0</span>]         │\n",
       "│ (<span style=\"color: #0087ff; text-decoration-color: #0087ff\">GlobalAveragePooling2D</span>)  │                        │                │                        │\n",
       "├───────────────────────────┼────────────────────────┼────────────────┼────────────────────────┤\n",
       "│ sampling_1 (<span style=\"color: #0087ff; text-decoration-color: #0087ff\">Sampling</span>)     │ (<span style=\"color: #00d7ff; text-decoration-color: #00d7ff\">None</span>, <span style=\"color: #00af00; text-decoration-color: #00af00\">10</span>)             │              <span style=\"color: #00af00; text-decoration-color: #00af00\">0</span> │ z_mean[<span style=\"color: #00af00; text-decoration-color: #00af00\">0</span>][<span style=\"color: #00af00; text-decoration-color: #00af00\">0</span>],          │\n",
       "│                           │                        │                │ z_log_var[<span style=\"color: #00af00; text-decoration-color: #00af00\">0</span>][<span style=\"color: #00af00; text-decoration-color: #00af00\">0</span>]        │\n",
       "└───────────────────────────┴────────────────────────┴────────────────┴────────────────────────┘\n",
       "</pre>\n"
      ],
      "text/plain": [
       "┏━━━━━━━━━━━━━━━━━━━━━━━━━━━┳━━━━━━━━━━━━━━━━━━━━━━━━┳━━━━━━━━━━━━━━━━┳━━━━━━━━━━━━━━━━━━━━━━━━┓\n",
       "┃\u001b[1m \u001b[0m\u001b[1mLayer (type)             \u001b[0m\u001b[1m \u001b[0m┃\u001b[1m \u001b[0m\u001b[1mOutput Shape          \u001b[0m\u001b[1m \u001b[0m┃\u001b[1m \u001b[0m\u001b[1m       Param #\u001b[0m\u001b[1m \u001b[0m┃\u001b[1m \u001b[0m\u001b[1mConnected to          \u001b[0m\u001b[1m \u001b[0m┃\n",
       "┡━━━━━━━━━━━━━━━━━━━━━━━━━━━╇━━━━━━━━━━━━━━━━━━━━━━━━╇━━━━━━━━━━━━━━━━╇━━━━━━━━━━━━━━━━━━━━━━━━┩\n",
       "│ input_layer_2             │ (\u001b[38;5;45mNone\u001b[0m, \u001b[38;5;34m32\u001b[0m, \u001b[38;5;34m32\u001b[0m, \u001b[38;5;34m1\u001b[0m)      │              \u001b[38;5;34m0\u001b[0m │ -                      │\n",
       "│ (\u001b[38;5;33mInputLayer\u001b[0m)              │                        │                │                        │\n",
       "├───────────────────────────┼────────────────────────┼────────────────┼────────────────────────┤\n",
       "│ conv2d_2 (\u001b[38;5;33mConv2D\u001b[0m)         │ (\u001b[38;5;45mNone\u001b[0m, \u001b[38;5;34m16\u001b[0m, \u001b[38;5;34m16\u001b[0m, \u001b[38;5;34m32\u001b[0m)     │            \u001b[38;5;34m320\u001b[0m │ input_layer_2[\u001b[38;5;34m0\u001b[0m][\u001b[38;5;34m0\u001b[0m]    │\n",
       "├───────────────────────────┼────────────────────────┼────────────────┼────────────────────────┤\n",
       "│ conv2d_3 (\u001b[38;5;33mConv2D\u001b[0m)         │ (\u001b[38;5;45mNone\u001b[0m, \u001b[38;5;34m8\u001b[0m, \u001b[38;5;34m8\u001b[0m, \u001b[38;5;34m64\u001b[0m)       │         \u001b[38;5;34m18,496\u001b[0m │ conv2d_2[\u001b[38;5;34m0\u001b[0m][\u001b[38;5;34m0\u001b[0m]         │\n",
       "├───────────────────────────┼────────────────────────┼────────────────┼────────────────────────┤\n",
       "│ conv2d_4 (\u001b[38;5;33mConv2D\u001b[0m)         │ (\u001b[38;5;45mNone\u001b[0m, \u001b[38;5;34m8\u001b[0m, \u001b[38;5;34m8\u001b[0m, \u001b[38;5;34m64\u001b[0m)       │         \u001b[38;5;34m36,928\u001b[0m │ conv2d_3[\u001b[38;5;34m0\u001b[0m][\u001b[38;5;34m0\u001b[0m]         │\n",
       "├───────────────────────────┼────────────────────────┼────────────────┼────────────────────────┤\n",
       "│ conv2d_5 (\u001b[38;5;33mConv2D\u001b[0m)         │ (\u001b[38;5;45mNone\u001b[0m, \u001b[38;5;34m8\u001b[0m, \u001b[38;5;34m8\u001b[0m, \u001b[38;5;34m10\u001b[0m)       │            \u001b[38;5;34m650\u001b[0m │ conv2d_4[\u001b[38;5;34m0\u001b[0m][\u001b[38;5;34m0\u001b[0m]         │\n",
       "├───────────────────────────┼────────────────────────┼────────────────┼────────────────────────┤\n",
       "│ z_mean                    │ (\u001b[38;5;45mNone\u001b[0m, \u001b[38;5;34m10\u001b[0m)             │              \u001b[38;5;34m0\u001b[0m │ conv2d_5[\u001b[38;5;34m0\u001b[0m][\u001b[38;5;34m0\u001b[0m]         │\n",
       "│ (\u001b[38;5;33mGlobalAveragePooling2D\u001b[0m)  │                        │                │                        │\n",
       "├───────────────────────────┼────────────────────────┼────────────────┼────────────────────────┤\n",
       "│ z_log_var                 │ (\u001b[38;5;45mNone\u001b[0m, \u001b[38;5;34m10\u001b[0m)             │              \u001b[38;5;34m0\u001b[0m │ conv2d_5[\u001b[38;5;34m0\u001b[0m][\u001b[38;5;34m0\u001b[0m]         │\n",
       "│ (\u001b[38;5;33mGlobalAveragePooling2D\u001b[0m)  │                        │                │                        │\n",
       "├───────────────────────────┼────────────────────────┼────────────────┼────────────────────────┤\n",
       "│ sampling_1 (\u001b[38;5;33mSampling\u001b[0m)     │ (\u001b[38;5;45mNone\u001b[0m, \u001b[38;5;34m10\u001b[0m)             │              \u001b[38;5;34m0\u001b[0m │ z_mean[\u001b[38;5;34m0\u001b[0m][\u001b[38;5;34m0\u001b[0m],          │\n",
       "│                           │                        │                │ z_log_var[\u001b[38;5;34m0\u001b[0m][\u001b[38;5;34m0\u001b[0m]        │\n",
       "└───────────────────────────┴────────────────────────┴────────────────┴────────────────────────┘\n"
      ]
     },
     "metadata": {},
     "output_type": "display_data"
    },
    {
     "data": {
      "text/html": [
       "<pre style=\"white-space:pre;overflow-x:auto;line-height:normal;font-family:Menlo,'DejaVu Sans Mono',consolas,'Courier New',monospace\"><span style=\"font-weight: bold\"> Total params: </span><span style=\"color: #00af00; text-decoration-color: #00af00\">56,394</span> (220.29 KB)\n",
       "</pre>\n"
      ],
      "text/plain": [
       "\u001b[1m Total params: \u001b[0m\u001b[38;5;34m56,394\u001b[0m (220.29 KB)\n"
      ]
     },
     "metadata": {},
     "output_type": "display_data"
    },
    {
     "data": {
      "text/html": [
       "<pre style=\"white-space:pre;overflow-x:auto;line-height:normal;font-family:Menlo,'DejaVu Sans Mono',consolas,'Courier New',monospace\"><span style=\"font-weight: bold\"> Trainable params: </span><span style=\"color: #00af00; text-decoration-color: #00af00\">56,394</span> (220.29 KB)\n",
       "</pre>\n"
      ],
      "text/plain": [
       "\u001b[1m Trainable params: \u001b[0m\u001b[38;5;34m56,394\u001b[0m (220.29 KB)\n"
      ]
     },
     "metadata": {},
     "output_type": "display_data"
    },
    {
     "data": {
      "text/html": [
       "<pre style=\"white-space:pre;overflow-x:auto;line-height:normal;font-family:Menlo,'DejaVu Sans Mono',consolas,'Courier New',monospace\"><span style=\"font-weight: bold\"> Non-trainable params: </span><span style=\"color: #00af00; text-decoration-color: #00af00\">0</span> (0.00 B)\n",
       "</pre>\n"
      ],
      "text/plain": [
       "\u001b[1m Non-trainable params: \u001b[0m\u001b[38;5;34m0\u001b[0m (0.00 B)\n"
      ]
     },
     "metadata": {},
     "output_type": "display_data"
    }
   ],
   "source": [
    "# create the encoder model\n",
    "encoder_convolutional = keras.Model(encoder_inputs, [z_mean, z_log_var, z], name=\"encoder\")\n",
    "encoder_convolutional.summary()"
   ]
  },
  {
   "cell_type": "markdown",
   "id": "98583005-db50-432f-bf73-50200b01503d",
   "metadata": {
    "id": "98583005-db50-432f-bf73-50200b01503d"
   },
   "source": [
    "### Decoder"
   ]
  },
  {
   "cell_type": "code",
   "execution_count": 28,
   "id": "b06b3560-47eb-4b66-b08e-4067d5f2a12d",
   "metadata": {
    "executionInfo": {
     "elapsed": 14,
     "status": "ok",
     "timestamp": 1723825644860,
     "user": {
      "displayName": "Adolfo Scheidt",
      "userId": "09124212706277105639"
     },
     "user_tz": 180
    },
    "id": "b06b3560-47eb-4b66-b08e-4067d5f2a12d"
   },
   "outputs": [],
   "source": [
    "# define the decoder network\n",
    "decoder_inputs = layers.Input(shape=(latent_dim,))\n",
    "x = layers.Reshape((1, 1, latent_dim))(decoder_inputs)\n",
    "x = layers.Conv2DTranspose(32, 2, strides=1, activation=\"relu\", padding=\"valid\")(x)\n",
    "x = layers.Conv2DTranspose(16, 2, strides=2, activation=\"relu\", padding=\"same\")(x)\n",
    "x = layers.Conv2DTranspose(8, 2, strides=2, activation=\"relu\", padding=\"same\")(x)\n",
    "x = layers.Conv2DTranspose(4, 2, strides=2, activation=\"relu\", padding=\"same\")(x)\n",
    "x = layers.Conv2DTranspose(2, 2, strides=2, activation=\"relu\", padding=\"same\")(x)\n",
    "decoder_outputs = layers.Conv2DTranspose(1, 2, strides=1, activation=\"sigmoid\", padding=\"same\")(x)"
   ]
  },
  {
   "cell_type": "code",
   "execution_count": 29,
   "id": "fe900596-a6e8-4cd1-991e-0a9e077532a8",
   "metadata": {
    "colab": {
     "base_uri": "https://localhost:8080/",
     "height": 385
    },
    "executionInfo": {
     "elapsed": 13,
     "status": "ok",
     "timestamp": 1723825644860,
     "user": {
      "displayName": "Adolfo Scheidt",
      "userId": "09124212706277105639"
     },
     "user_tz": 180
    },
    "id": "fe900596-a6e8-4cd1-991e-0a9e077532a8",
    "outputId": "ecdc5bfe-7d3f-44be-f73b-e0529d9a5a74"
   },
   "outputs": [
    {
     "data": {
      "text/html": [
       "<pre style=\"white-space:pre;overflow-x:auto;line-height:normal;font-family:Menlo,'DejaVu Sans Mono',consolas,'Courier New',monospace\"><span style=\"font-weight: bold\">Model: \"decoder\"</span>\n",
       "</pre>\n"
      ],
      "text/plain": [
       "\u001b[1mModel: \"decoder\"\u001b[0m\n"
      ]
     },
     "metadata": {},
     "output_type": "display_data"
    },
    {
     "data": {
      "text/html": [
       "<pre style=\"white-space:pre;overflow-x:auto;line-height:normal;font-family:Menlo,'DejaVu Sans Mono',consolas,'Courier New',monospace\">┏━━━━━━━━━━━━━━━━━━━━━━━━━━━━━━━━━━━━━━┳━━━━━━━━━━━━━━━━━━━━━━━━━━━━━┳━━━━━━━━━━━━━━━━━┓\n",
       "┃<span style=\"font-weight: bold\"> Layer (type)                         </span>┃<span style=\"font-weight: bold\"> Output Shape                </span>┃<span style=\"font-weight: bold\">         Param # </span>┃\n",
       "┡━━━━━━━━━━━━━━━━━━━━━━━━━━━━━━━━━━━━━━╇━━━━━━━━━━━━━━━━━━━━━━━━━━━━━╇━━━━━━━━━━━━━━━━━┩\n",
       "│ input_layer_3 (<span style=\"color: #0087ff; text-decoration-color: #0087ff\">InputLayer</span>)           │ (<span style=\"color: #00d7ff; text-decoration-color: #00d7ff\">None</span>, <span style=\"color: #00af00; text-decoration-color: #00af00\">10</span>)                  │               <span style=\"color: #00af00; text-decoration-color: #00af00\">0</span> │\n",
       "├──────────────────────────────────────┼─────────────────────────────┼─────────────────┤\n",
       "│ reshape_1 (<span style=\"color: #0087ff; text-decoration-color: #0087ff\">Reshape</span>)                  │ (<span style=\"color: #00d7ff; text-decoration-color: #00d7ff\">None</span>, <span style=\"color: #00af00; text-decoration-color: #00af00\">1</span>, <span style=\"color: #00af00; text-decoration-color: #00af00\">1</span>, <span style=\"color: #00af00; text-decoration-color: #00af00\">10</span>)            │               <span style=\"color: #00af00; text-decoration-color: #00af00\">0</span> │\n",
       "├──────────────────────────────────────┼─────────────────────────────┼─────────────────┤\n",
       "│ conv2d_transpose_3 (<span style=\"color: #0087ff; text-decoration-color: #0087ff\">Conv2DTranspose</span>) │ (<span style=\"color: #00d7ff; text-decoration-color: #00d7ff\">None</span>, <span style=\"color: #00af00; text-decoration-color: #00af00\">2</span>, <span style=\"color: #00af00; text-decoration-color: #00af00\">2</span>, <span style=\"color: #00af00; text-decoration-color: #00af00\">32</span>)            │           <span style=\"color: #00af00; text-decoration-color: #00af00\">1,312</span> │\n",
       "├──────────────────────────────────────┼─────────────────────────────┼─────────────────┤\n",
       "│ conv2d_transpose_4 (<span style=\"color: #0087ff; text-decoration-color: #0087ff\">Conv2DTranspose</span>) │ (<span style=\"color: #00d7ff; text-decoration-color: #00d7ff\">None</span>, <span style=\"color: #00af00; text-decoration-color: #00af00\">4</span>, <span style=\"color: #00af00; text-decoration-color: #00af00\">4</span>, <span style=\"color: #00af00; text-decoration-color: #00af00\">16</span>)            │           <span style=\"color: #00af00; text-decoration-color: #00af00\">2,064</span> │\n",
       "├──────────────────────────────────────┼─────────────────────────────┼─────────────────┤\n",
       "│ conv2d_transpose_5 (<span style=\"color: #0087ff; text-decoration-color: #0087ff\">Conv2DTranspose</span>) │ (<span style=\"color: #00d7ff; text-decoration-color: #00d7ff\">None</span>, <span style=\"color: #00af00; text-decoration-color: #00af00\">8</span>, <span style=\"color: #00af00; text-decoration-color: #00af00\">8</span>, <span style=\"color: #00af00; text-decoration-color: #00af00\">8</span>)             │             <span style=\"color: #00af00; text-decoration-color: #00af00\">520</span> │\n",
       "├──────────────────────────────────────┼─────────────────────────────┼─────────────────┤\n",
       "│ conv2d_transpose_6 (<span style=\"color: #0087ff; text-decoration-color: #0087ff\">Conv2DTranspose</span>) │ (<span style=\"color: #00d7ff; text-decoration-color: #00d7ff\">None</span>, <span style=\"color: #00af00; text-decoration-color: #00af00\">16</span>, <span style=\"color: #00af00; text-decoration-color: #00af00\">16</span>, <span style=\"color: #00af00; text-decoration-color: #00af00\">4</span>)           │             <span style=\"color: #00af00; text-decoration-color: #00af00\">132</span> │\n",
       "├──────────────────────────────────────┼─────────────────────────────┼─────────────────┤\n",
       "│ conv2d_transpose_7 (<span style=\"color: #0087ff; text-decoration-color: #0087ff\">Conv2DTranspose</span>) │ (<span style=\"color: #00d7ff; text-decoration-color: #00d7ff\">None</span>, <span style=\"color: #00af00; text-decoration-color: #00af00\">32</span>, <span style=\"color: #00af00; text-decoration-color: #00af00\">32</span>, <span style=\"color: #00af00; text-decoration-color: #00af00\">2</span>)           │              <span style=\"color: #00af00; text-decoration-color: #00af00\">34</span> │\n",
       "├──────────────────────────────────────┼─────────────────────────────┼─────────────────┤\n",
       "│ conv2d_transpose_8 (<span style=\"color: #0087ff; text-decoration-color: #0087ff\">Conv2DTranspose</span>) │ (<span style=\"color: #00d7ff; text-decoration-color: #00d7ff\">None</span>, <span style=\"color: #00af00; text-decoration-color: #00af00\">32</span>, <span style=\"color: #00af00; text-decoration-color: #00af00\">32</span>, <span style=\"color: #00af00; text-decoration-color: #00af00\">1</span>)           │               <span style=\"color: #00af00; text-decoration-color: #00af00\">9</span> │\n",
       "└──────────────────────────────────────┴─────────────────────────────┴─────────────────┘\n",
       "</pre>\n"
      ],
      "text/plain": [
       "┏━━━━━━━━━━━━━━━━━━━━━━━━━━━━━━━━━━━━━━┳━━━━━━━━━━━━━━━━━━━━━━━━━━━━━┳━━━━━━━━━━━━━━━━━┓\n",
       "┃\u001b[1m \u001b[0m\u001b[1mLayer (type)                        \u001b[0m\u001b[1m \u001b[0m┃\u001b[1m \u001b[0m\u001b[1mOutput Shape               \u001b[0m\u001b[1m \u001b[0m┃\u001b[1m \u001b[0m\u001b[1m        Param #\u001b[0m\u001b[1m \u001b[0m┃\n",
       "┡━━━━━━━━━━━━━━━━━━━━━━━━━━━━━━━━━━━━━━╇━━━━━━━━━━━━━━━━━━━━━━━━━━━━━╇━━━━━━━━━━━━━━━━━┩\n",
       "│ input_layer_3 (\u001b[38;5;33mInputLayer\u001b[0m)           │ (\u001b[38;5;45mNone\u001b[0m, \u001b[38;5;34m10\u001b[0m)                  │               \u001b[38;5;34m0\u001b[0m │\n",
       "├──────────────────────────────────────┼─────────────────────────────┼─────────────────┤\n",
       "│ reshape_1 (\u001b[38;5;33mReshape\u001b[0m)                  │ (\u001b[38;5;45mNone\u001b[0m, \u001b[38;5;34m1\u001b[0m, \u001b[38;5;34m1\u001b[0m, \u001b[38;5;34m10\u001b[0m)            │               \u001b[38;5;34m0\u001b[0m │\n",
       "├──────────────────────────────────────┼─────────────────────────────┼─────────────────┤\n",
       "│ conv2d_transpose_3 (\u001b[38;5;33mConv2DTranspose\u001b[0m) │ (\u001b[38;5;45mNone\u001b[0m, \u001b[38;5;34m2\u001b[0m, \u001b[38;5;34m2\u001b[0m, \u001b[38;5;34m32\u001b[0m)            │           \u001b[38;5;34m1,312\u001b[0m │\n",
       "├──────────────────────────────────────┼─────────────────────────────┼─────────────────┤\n",
       "│ conv2d_transpose_4 (\u001b[38;5;33mConv2DTranspose\u001b[0m) │ (\u001b[38;5;45mNone\u001b[0m, \u001b[38;5;34m4\u001b[0m, \u001b[38;5;34m4\u001b[0m, \u001b[38;5;34m16\u001b[0m)            │           \u001b[38;5;34m2,064\u001b[0m │\n",
       "├──────────────────────────────────────┼─────────────────────────────┼─────────────────┤\n",
       "│ conv2d_transpose_5 (\u001b[38;5;33mConv2DTranspose\u001b[0m) │ (\u001b[38;5;45mNone\u001b[0m, \u001b[38;5;34m8\u001b[0m, \u001b[38;5;34m8\u001b[0m, \u001b[38;5;34m8\u001b[0m)             │             \u001b[38;5;34m520\u001b[0m │\n",
       "├──────────────────────────────────────┼─────────────────────────────┼─────────────────┤\n",
       "│ conv2d_transpose_6 (\u001b[38;5;33mConv2DTranspose\u001b[0m) │ (\u001b[38;5;45mNone\u001b[0m, \u001b[38;5;34m16\u001b[0m, \u001b[38;5;34m16\u001b[0m, \u001b[38;5;34m4\u001b[0m)           │             \u001b[38;5;34m132\u001b[0m │\n",
       "├──────────────────────────────────────┼─────────────────────────────┼─────────────────┤\n",
       "│ conv2d_transpose_7 (\u001b[38;5;33mConv2DTranspose\u001b[0m) │ (\u001b[38;5;45mNone\u001b[0m, \u001b[38;5;34m32\u001b[0m, \u001b[38;5;34m32\u001b[0m, \u001b[38;5;34m2\u001b[0m)           │              \u001b[38;5;34m34\u001b[0m │\n",
       "├──────────────────────────────────────┼─────────────────────────────┼─────────────────┤\n",
       "│ conv2d_transpose_8 (\u001b[38;5;33mConv2DTranspose\u001b[0m) │ (\u001b[38;5;45mNone\u001b[0m, \u001b[38;5;34m32\u001b[0m, \u001b[38;5;34m32\u001b[0m, \u001b[38;5;34m1\u001b[0m)           │               \u001b[38;5;34m9\u001b[0m │\n",
       "└──────────────────────────────────────┴─────────────────────────────┴─────────────────┘\n"
      ]
     },
     "metadata": {},
     "output_type": "display_data"
    },
    {
     "data": {
      "text/html": [
       "<pre style=\"white-space:pre;overflow-x:auto;line-height:normal;font-family:Menlo,'DejaVu Sans Mono',consolas,'Courier New',monospace\"><span style=\"font-weight: bold\"> Total params: </span><span style=\"color: #00af00; text-decoration-color: #00af00\">4,071</span> (15.90 KB)\n",
       "</pre>\n"
      ],
      "text/plain": [
       "\u001b[1m Total params: \u001b[0m\u001b[38;5;34m4,071\u001b[0m (15.90 KB)\n"
      ]
     },
     "metadata": {},
     "output_type": "display_data"
    },
    {
     "data": {
      "text/html": [
       "<pre style=\"white-space:pre;overflow-x:auto;line-height:normal;font-family:Menlo,'DejaVu Sans Mono',consolas,'Courier New',monospace\"><span style=\"font-weight: bold\"> Trainable params: </span><span style=\"color: #00af00; text-decoration-color: #00af00\">4,071</span> (15.90 KB)\n",
       "</pre>\n"
      ],
      "text/plain": [
       "\u001b[1m Trainable params: \u001b[0m\u001b[38;5;34m4,071\u001b[0m (15.90 KB)\n"
      ]
     },
     "metadata": {},
     "output_type": "display_data"
    },
    {
     "data": {
      "text/html": [
       "<pre style=\"white-space:pre;overflow-x:auto;line-height:normal;font-family:Menlo,'DejaVu Sans Mono',consolas,'Courier New',monospace\"><span style=\"font-weight: bold\"> Non-trainable params: </span><span style=\"color: #00af00; text-decoration-color: #00af00\">0</span> (0.00 B)\n",
       "</pre>\n"
      ],
      "text/plain": [
       "\u001b[1m Non-trainable params: \u001b[0m\u001b[38;5;34m0\u001b[0m (0.00 B)\n"
      ]
     },
     "metadata": {},
     "output_type": "display_data"
    }
   ],
   "source": [
    "# create the decoder model\n",
    "decoder_convolutional = keras.Model(decoder_inputs, decoder_outputs, name=\"decoder\")\n",
    "decoder_convolutional.summary()"
   ]
  },
  {
   "cell_type": "markdown",
   "id": "af672d8c-6d6f-43f9-8ebc-a5fa9234b088",
   "metadata": {
    "id": "af672d8c-6d6f-43f9-8ebc-a5fa9234b088"
   },
   "source": [
    "### Model"
   ]
  },
  {
   "cell_type": "code",
   "execution_count": 30,
   "id": "97bc3998-516a-4df1-abd5-7563269dc9ca",
   "metadata": {
    "executionInfo": {
     "elapsed": 11,
     "status": "ok",
     "timestamp": 1723825644860,
     "user": {
      "displayName": "Adolfo Scheidt",
      "userId": "09124212706277105639"
     },
     "user_tz": 180
    },
    "id": "97bc3998-516a-4df1-abd5-7563269dc9ca"
   },
   "outputs": [],
   "source": [
    "# define the VAE model\n",
    "vae_convolutional = VAE(encoder_convolutional, decoder_convolutional)\n",
    "\n",
    "# compile the VAE model\n",
    "vae_convolutional.compile(optimizer=keras.optimizers.Adam())"
   ]
  },
  {
   "cell_type": "markdown",
   "id": "17df7120-1800-4fd2-bcab-1b5b67da3fe7",
   "metadata": {
    "id": "17df7120-1800-4fd2-bcab-1b5b67da3fe7"
   },
   "source": [
    "### Training"
   ]
  },
  {
   "cell_type": "code",
   "execution_count": 31,
   "id": "4c034df0-8019-4caa-b6a8-32df4b5f8df7",
   "metadata": {
    "colab": {
     "base_uri": "https://localhost:8080/"
    },
    "executionInfo": {
     "elapsed": 285886,
     "status": "ok",
     "timestamp": 1723825930735,
     "user": {
      "displayName": "Adolfo Scheidt",
      "userId": "09124212706277105639"
     },
     "user_tz": 180
    },
    "id": "4c034df0-8019-4caa-b6a8-32df4b5f8df7",
    "outputId": "52d80262-f6dc-4c03-b16a-88c37b520fbf"
   },
   "outputs": [
    {
     "name": "stdout",
     "output_type": "stream",
     "text": [
      "Epoch 1/30\n",
      "\u001b[1m1563/1563\u001b[0m \u001b[32m━━━━━━━━━━━━━━━━━━━━\u001b[0m\u001b[37m\u001b[0m \u001b[1m23s\u001b[0m 9ms/step - kl_loss: 1.2934e-04 - loss: 620.3342 - reconstruction_loss: 620.3341 - regularization_loss: 2.5868e-05\n",
      "Epoch 2/30\n",
      "\u001b[1m1563/1563\u001b[0m \u001b[32m━━━━━━━━━━━━━━━━━━━━\u001b[0m\u001b[37m\u001b[0m \u001b[1m7s\u001b[0m 4ms/step - kl_loss: 0.3736 - loss: 477.7975 - reconstruction_loss: 477.3491 - regularization_loss: 0.0747\n",
      "Epoch 3/30\n",
      "\u001b[1m1563/1563\u001b[0m \u001b[32m━━━━━━━━━━━━━━━━━━━━\u001b[0m\u001b[37m\u001b[0m \u001b[1m10s\u001b[0m 4ms/step - kl_loss: 2.5307 - loss: 451.8281 - reconstruction_loss: 448.7913 - regularization_loss: 0.5061\n",
      "Epoch 4/30\n",
      "\u001b[1m1563/1563\u001b[0m \u001b[32m━━━━━━━━━━━━━━━━━━━━\u001b[0m\u001b[37m\u001b[0m \u001b[1m10s\u001b[0m 4ms/step - kl_loss: 5.4804 - loss: 434.7589 - reconstruction_loss: 428.1823 - regularization_loss: 1.0961\n",
      "Epoch 5/30\n",
      "\u001b[1m1563/1563\u001b[0m \u001b[32m━━━━━━━━━━━━━━━━━━━━\u001b[0m\u001b[37m\u001b[0m \u001b[1m11s\u001b[0m 4ms/step - kl_loss: 6.7551 - loss: 428.3119 - reconstruction_loss: 420.2058 - regularization_loss: 1.3510\n",
      "Epoch 6/30\n",
      "\u001b[1m1563/1563\u001b[0m \u001b[32m━━━━━━━━━━━━━━━━━━━━\u001b[0m\u001b[37m\u001b[0m \u001b[1m6s\u001b[0m 4ms/step - kl_loss: 7.9713 - loss: 424.7930 - reconstruction_loss: 415.2272 - regularization_loss: 1.5943\n",
      "Epoch 7/30\n",
      "\u001b[1m1563/1563\u001b[0m \u001b[32m━━━━━━━━━━━━━━━━━━━━\u001b[0m\u001b[37m\u001b[0m \u001b[1m7s\u001b[0m 4ms/step - kl_loss: 8.8480 - loss: 420.0384 - reconstruction_loss: 409.4207 - regularization_loss: 1.7696\n",
      "Epoch 8/30\n",
      "\u001b[1m1563/1563\u001b[0m \u001b[32m━━━━━━━━━━━━━━━━━━━━\u001b[0m\u001b[37m\u001b[0m \u001b[1m10s\u001b[0m 4ms/step - kl_loss: 9.4024 - loss: 417.5153 - reconstruction_loss: 406.2325 - regularization_loss: 1.8805\n",
      "Epoch 9/30\n",
      "\u001b[1m1563/1563\u001b[0m \u001b[32m━━━━━━━━━━━━━━━━━━━━\u001b[0m\u001b[37m\u001b[0m \u001b[1m10s\u001b[0m 4ms/step - kl_loss: 10.0804 - loss: 415.5082 - reconstruction_loss: 403.4117 - regularization_loss: 2.0161\n",
      "Epoch 10/30\n",
      "\u001b[1m1563/1563\u001b[0m \u001b[32m━━━━━━━━━━━━━━━━━━━━\u001b[0m\u001b[37m\u001b[0m \u001b[1m10s\u001b[0m 4ms/step - kl_loss: 10.6596 - loss: 414.6569 - reconstruction_loss: 401.8655 - regularization_loss: 2.1319\n",
      "Epoch 11/30\n",
      "\u001b[1m1563/1563\u001b[0m \u001b[32m━━━━━━━━━━━━━━━━━━━━\u001b[0m\u001b[37m\u001b[0m \u001b[1m11s\u001b[0m 4ms/step - kl_loss: 11.0876 - loss: 411.8521 - reconstruction_loss: 398.5469 - regularization_loss: 2.2175\n",
      "Epoch 12/30\n",
      "\u001b[1m1563/1563\u001b[0m \u001b[32m━━━━━━━━━━━━━━━━━━━━\u001b[0m\u001b[37m\u001b[0m \u001b[1m11s\u001b[0m 5ms/step - kl_loss: 11.4338 - loss: 411.2134 - reconstruction_loss: 397.4929 - regularization_loss: 2.2868\n",
      "Epoch 13/30\n",
      "\u001b[1m1563/1563\u001b[0m \u001b[32m━━━━━━━━━━━━━━━━━━━━\u001b[0m\u001b[37m\u001b[0m \u001b[1m10s\u001b[0m 5ms/step - kl_loss: 11.6270 - loss: 408.8940 - reconstruction_loss: 394.9417 - regularization_loss: 2.3254\n",
      "Epoch 14/30\n",
      "\u001b[1m1563/1563\u001b[0m \u001b[32m━━━━━━━━━━━━━━━━━━━━\u001b[0m\u001b[37m\u001b[0m \u001b[1m6s\u001b[0m 4ms/step - kl_loss: 12.0331 - loss: 408.1626 - reconstruction_loss: 393.7229 - regularization_loss: 2.4066\n",
      "Epoch 15/30\n",
      "\u001b[1m1563/1563\u001b[0m \u001b[32m━━━━━━━━━━━━━━━━━━━━\u001b[0m\u001b[37m\u001b[0m \u001b[1m10s\u001b[0m 4ms/step - kl_loss: 12.2912 - loss: 407.5484 - reconstruction_loss: 392.7988 - regularization_loss: 2.4582\n",
      "Epoch 16/30\n",
      "\u001b[1m1563/1563\u001b[0m \u001b[32m━━━━━━━━━━━━━━━━━━━━\u001b[0m\u001b[37m\u001b[0m \u001b[1m11s\u001b[0m 4ms/step - kl_loss: 12.2988 - loss: 406.7019 - reconstruction_loss: 391.9433 - regularization_loss: 2.4598\n",
      "Epoch 17/30\n",
      "\u001b[1m1563/1563\u001b[0m \u001b[32m━━━━━━━━━━━━━━━━━━━━\u001b[0m\u001b[37m\u001b[0m \u001b[1m11s\u001b[0m 5ms/step - kl_loss: 12.4330 - loss: 406.9403 - reconstruction_loss: 392.0207 - regularization_loss: 2.4866\n",
      "Epoch 18/30\n",
      "\u001b[1m1563/1563\u001b[0m \u001b[32m━━━━━━━━━━━━━━━━━━━━\u001b[0m\u001b[37m\u001b[0m \u001b[1m10s\u001b[0m 4ms/step - kl_loss: 12.6029 - loss: 405.4369 - reconstruction_loss: 390.3135 - regularization_loss: 2.5206\n",
      "Epoch 19/30\n",
      "\u001b[1m1563/1563\u001b[0m \u001b[32m━━━━━━━━━━━━━━━━━━━━\u001b[0m\u001b[37m\u001b[0m \u001b[1m9s\u001b[0m 4ms/step - kl_loss: 12.8283 - loss: 405.5816 - reconstruction_loss: 390.1878 - regularization_loss: 2.5657\n",
      "Epoch 20/30\n",
      "\u001b[1m1563/1563\u001b[0m \u001b[32m━━━━━━━━━━━━━━━━━━━━\u001b[0m\u001b[37m\u001b[0m \u001b[1m7s\u001b[0m 4ms/step - kl_loss: 12.9492 - loss: 405.2154 - reconstruction_loss: 389.6761 - regularization_loss: 2.5898\n",
      "Epoch 21/30\n",
      "\u001b[1m1563/1563\u001b[0m \u001b[32m━━━━━━━━━━━━━━━━━━━━\u001b[0m\u001b[37m\u001b[0m \u001b[1m10s\u001b[0m 4ms/step - kl_loss: 13.0151 - loss: 403.0605 - reconstruction_loss: 387.4424 - regularization_loss: 2.6030\n",
      "Epoch 22/30\n",
      "\u001b[1m1563/1563\u001b[0m \u001b[32m━━━━━━━━━━━━━━━━━━━━\u001b[0m\u001b[37m\u001b[0m \u001b[1m6s\u001b[0m 4ms/step - kl_loss: 13.1704 - loss: 404.0554 - reconstruction_loss: 388.2508 - regularization_loss: 2.6341\n",
      "Epoch 23/30\n",
      "\u001b[1m1563/1563\u001b[0m \u001b[32m━━━━━━━━━━━━━━━━━━━━\u001b[0m\u001b[37m\u001b[0m \u001b[1m11s\u001b[0m 4ms/step - kl_loss: 13.2961 - loss: 404.3232 - reconstruction_loss: 388.3677 - regularization_loss: 2.6592\n",
      "Epoch 24/30\n",
      "\u001b[1m1563/1563\u001b[0m \u001b[32m━━━━━━━━━━━━━━━━━━━━\u001b[0m\u001b[37m\u001b[0m \u001b[1m11s\u001b[0m 5ms/step - kl_loss: 13.4325 - loss: 402.7538 - reconstruction_loss: 386.6347 - regularization_loss: 2.6865\n",
      "Epoch 25/30\n",
      "\u001b[1m1563/1563\u001b[0m \u001b[32m━━━━━━━━━━━━━━━━━━━━\u001b[0m\u001b[37m\u001b[0m \u001b[1m9s\u001b[0m 4ms/step - kl_loss: 13.4995 - loss: 403.2515 - reconstruction_loss: 387.0521 - regularization_loss: 2.6999\n",
      "Epoch 26/30\n",
      "\u001b[1m1563/1563\u001b[0m \u001b[32m━━━━━━━━━━━━━━━━━━━━\u001b[0m\u001b[37m\u001b[0m \u001b[1m7s\u001b[0m 4ms/step - kl_loss: 13.4625 - loss: 402.4868 - reconstruction_loss: 386.3318 - regularization_loss: 2.6925\n",
      "Epoch 27/30\n",
      "\u001b[1m1563/1563\u001b[0m \u001b[32m━━━━━━━━━━━━━━━━━━━━\u001b[0m\u001b[37m\u001b[0m \u001b[1m6s\u001b[0m 4ms/step - kl_loss: 13.6963 - loss: 403.3281 - reconstruction_loss: 386.8925 - regularization_loss: 2.7393\n",
      "Epoch 28/30\n",
      "\u001b[1m1563/1563\u001b[0m \u001b[32m━━━━━━━━━━━━━━━━━━━━\u001b[0m\u001b[37m\u001b[0m \u001b[1m7s\u001b[0m 4ms/step - kl_loss: 13.6784 - loss: 402.4673 - reconstruction_loss: 386.0531 - regularization_loss: 2.7357\n",
      "Epoch 29/30\n",
      "\u001b[1m1563/1563\u001b[0m \u001b[32m━━━━━━━━━━━━━━━━━━━━\u001b[0m\u001b[37m\u001b[0m \u001b[1m9s\u001b[0m 4ms/step - kl_loss: 13.6792 - loss: 402.5620 - reconstruction_loss: 386.1472 - regularization_loss: 2.7358\n",
      "Epoch 30/30\n",
      "\u001b[1m1563/1563\u001b[0m \u001b[32m━━━━━━━━━━━━━━━━━━━━\u001b[0m\u001b[37m\u001b[0m \u001b[1m7s\u001b[0m 4ms/step - kl_loss: 13.8823 - loss: 402.1977 - reconstruction_loss: 385.5390 - regularization_loss: 2.7765\n"
     ]
    },
    {
     "data": {
      "text/plain": [
       "<keras.src.callbacks.history.History at 0x7e4cd6f5b820>"
      ]
     },
     "execution_count": 31,
     "metadata": {},
     "output_type": "execute_result"
    }
   ],
   "source": [
    "# train the VAE model\n",
    "vae_convolutional.fit(resized_train_data, epochs=30, batch_size=32)"
   ]
  },
  {
   "cell_type": "markdown",
   "id": "58b66ea9-55e0-4f19-a12d-0a1f9056f67a",
   "metadata": {
    "id": "58b66ea9-55e0-4f19-a12d-0a1f9056f67a"
   },
   "source": [
    "### Saving model"
   ]
  },
  {
   "cell_type": "code",
   "execution_count": 32,
   "id": "85bed6d9-48fb-4271-964a-f7cf6893ead3",
   "metadata": {
    "executionInfo": {
     "elapsed": 18,
     "status": "ok",
     "timestamp": 1723825930735,
     "user": {
      "displayName": "Adolfo Scheidt",
      "userId": "09124212706277105639"
     },
     "user_tz": 180
    },
    "id": "85bed6d9-48fb-4271-964a-f7cf6893ead3"
   },
   "outputs": [],
   "source": [
    "# save the VAE model weights\n",
    "vae.save_weights(\"models/vae_dim10_fully_conv.weights.h5\")"
   ]
  },
  {
   "cell_type": "markdown",
   "id": "f0fdffba-7bdd-4d8c-b01a-61643e78ba6d",
   "metadata": {
    "id": "f0fdffba-7bdd-4d8c-b01a-61643e78ba6d"
   },
   "source": [
    "### Predicting new images"
   ]
  },
  {
   "cell_type": "code",
   "execution_count": 33,
   "id": "1e27a5d5-836b-4a78-b417-74e4ad411fa8",
   "metadata": {
    "colab": {
     "base_uri": "https://localhost:8080/"
    },
    "executionInfo": {
     "elapsed": 790,
     "status": "ok",
     "timestamp": 1723825931523,
     "user": {
      "displayName": "Adolfo Scheidt",
      "userId": "09124212706277105639"
     },
     "user_tz": 180
    },
    "id": "1e27a5d5-836b-4a78-b417-74e4ad411fa8",
    "outputId": "c286454f-c604-4256-e62b-c7281f458024"
   },
   "outputs": [
    {
     "name": "stdout",
     "output_type": "stream",
     "text": [
      "\u001b[1m1/1\u001b[0m \u001b[32m━━━━━━━━━━━━━━━━━━━━\u001b[0m\u001b[37m\u001b[0m \u001b[1m0s\u001b[0m 381ms/step\n"
     ]
    }
   ],
   "source": [
    "# generate new images from random latent vectors\n",
    "num_images = 10  # number of images to generate\n",
    "random_latent_vectors = tf.random.normal(shape=(num_images, latent_dim))\n",
    "generated_images = vae_convolutional.decoder.predict(random_latent_vectors)"
   ]
  },
  {
   "cell_type": "code",
   "execution_count": 34,
   "id": "a7587eb3-0bb2-4a88-b4cb-0620e3bca445",
   "metadata": {
    "colab": {
     "base_uri": "https://localhost:8080/",
     "height": 220
    },
    "executionInfo": {
     "elapsed": 6,
     "status": "ok",
     "timestamp": 1723825931523,
     "user": {
      "displayName": "Adolfo Scheidt",
      "userId": "09124212706277105639"
     },
     "user_tz": 180
    },
    "id": "a7587eb3-0bb2-4a88-b4cb-0620e3bca445",
    "outputId": "b6bc5255-1f7a-49bb-f6c6-db80ef3d5586"
   },
   "outputs": [
    {
     "data": {
      "image/png": "[encoded data removed]",
      "text/plain": [
       "<Figure size 2000x2000 with 10 Axes>"
      ]
     },
     "metadata": {},
     "output_type": "display_data"
    }
   ],
   "source": [
    "plot_images(generated_images)"
   ]
  },
  {
   "cell_type": "markdown",
   "id": "1f25db2c-68f8-4c12-8602-e785684c04ba",
   "metadata": {
    "id": "1f25db2c-68f8-4c12-8602-e785684c04ba"
   },
   "source": [
    "# Conclusion"
   ]
  },
  {
   "cell_type": "markdown",
   "id": "cbce5af7-e9d3-4f48-bba1-7c79c1db76e9",
   "metadata": {
    "id": "cbce5af7-e9d3-4f48-bba1-7c79c1db76e9"
   },
   "source": [
    "The convolutional + dense VAE, with a 100-dimensional latent space, was able to generate reconstructed images of meander-type geological channels that closely resemble the original data. Despite this success, the reconstructions lacked fine-grained details, and some fluctuations were evident—limitations commonly observed in VAEs. The described issues could potentially be mitigated by further experimentation, adjustments to the architecture of the encoder and decoder, extended training durations, or by fine-tuning the balance of the loss function's components. However, the constraints of limited computational resources and time prevented the exploration of these possibilities.\n",
    "\n",
    "The fully convolutional VAE presented more significant challenges, especially when attempting to generate new images from randomly sampled latent vectors. The design of the fully convolutional model proved particularly complex, requiring careful consideration of the number of layers, filter counts, kernel sizes, and strides. In my attempts, the best results I've achieved so far was with a 10-dimensional latent space. Those results resemble some of the original data but evidently have a lot more of fluctuations when comparing with the convolutional + dense VAE results. As described for the issues in convolutional + dense VAE, those problems could potentially be solved with more investigation.\n",
    "\n",
    "Despite the problems mentioned, this challenge was very exciting to work with and I've learned some interesting topics in ML that I didn't know about. I appreciate the opportunity to work on this and look forward to future endeavors!"
   ]
  }
 ],
 "metadata": {
  "accelerator": "GPU",
  "colab": {
   "gpuType": "T4",
   "provenance": []
  },
  "kernelspec": {
   "display_name": "Python 3 (ipykernel)",
   "language": "python",
   "name": "python3"
  },
  "language_info": {
   "codemirror_mode": {
    "name": "ipython",
    "version": 3
   },
   "file_extension": ".py",
   "mimetype": "text/x-python",
   "name": "python",
   "nbconvert_exporter": "python",
   "pygments_lexer": "ipython3",
   "version": "3.10.14"
  }
 },
 "nbformat": 4,
 "nbformat_minor": 5
}
